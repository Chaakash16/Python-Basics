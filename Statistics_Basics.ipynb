{
  "nbformat": 4,
  "nbformat_minor": 0,
  "metadata": {
    "colab": {
      "provenance": [],
      "authorship_tag": "ABX9TyN/BMaPyWr4m1yYjAX8Kfj0",
      "include_colab_link": true
    },
    "kernelspec": {
      "name": "python3",
      "display_name": "Python 3"
    },
    "language_info": {
      "name": "python"
    }
  },
  "cells": [
    {
      "cell_type": "markdown",
      "metadata": {
        "id": "view-in-github",
        "colab_type": "text"
      },
      "source": [
        "<a href=\"https://colab.research.google.com/github/Chaakash16/Python-Basics/blob/main/Statistics_Basics.ipynb\" target=\"_parent\"><img src=\"https://colab.research.google.com/assets/colab-badge.svg\" alt=\"Open In Colab\"/></a>"
      ]
    },
    {
      "cell_type": "markdown",
      "source": [
        "**Statistics Basics**"
      ],
      "metadata": {
        "id": "P7QJ7HHNd2rN"
      }
    },
    {
      "cell_type": "markdown",
      "source": [
        "Q1. Explain the different types of data (qualitative and quantitative) and provide examples of each. Discuss\n",
        "nominal, ordinal, interval, and ratio scales."
      ],
      "metadata": {
        "id": "mMJwJ4pcd271"
      }
    },
    {
      "cell_type": "markdown",
      "source": [
        "Ans. Data is classified into **qualitative (categorical)** and **quantitative (numerical)** types.  \n",
        "\n",
        "- **Qualitative Data**: Descriptive, non-numeric data.  \n",
        "  - **Nominal Scale**: Categories without order (e.g., colors, gender).  \n",
        "  - **Ordinal Scale**: Categories with order but no fixed difference (e.g., rankings, satisfaction levels).  \n",
        "\n",
        "- **Quantitative Data**: Numeric data that can be measured.  \n",
        "  - **Interval Scale**: Ordered with equal differences but no true zero (e.g., temperature in Celsius).  \n",
        "  - **Ratio Scale**: Ordered with equal differences and a true zero (e.g., height, weight, income)."
      ],
      "metadata": {
        "id": "-A49MnJkd2-n"
      }
    },
    {
      "cell_type": "markdown",
      "source": [
        "Q2. What are the measures of central tendency, and when should you use each? Discuss the mean, median,\n",
        "and mode with examples and situations where each is appropriate."
      ],
      "metadata": {
        "id": "iShldEoed3BB"
      }
    },
    {
      "cell_type": "markdown",
      "source": [
        "Ans. Measures of central tendency summarize data using a single value:  \n",
        "\n",
        "- **Mean** (average): Used for symmetric data without outliers (e.g., average salary).  \n",
        "- **Median** (middle value): Best for skewed data or when outliers exist (e.g., house prices).  \n",
        "- **Mode** (most frequent value): Ideal for categorical data or distributions with repeating values (e.g., favorite movie genre)."
      ],
      "metadata": {
        "id": "-qv4atFyd3Dd"
      }
    },
    {
      "cell_type": "markdown",
      "source": [
        "Q3. Explain the concept of dispersion. How do variance and standard deviation measure the spread of data?"
      ],
      "metadata": {
        "id": "dDmlVZm4d3GB"
      }
    },
    {
      "cell_type": "markdown",
      "source": [
        "Ans. **Dispersion** measures how spread out data points are in a dataset.  \n",
        "\n",
        "- **Variance**: The average of squared differences from the mean, showing overall data spread.  \n",
        "- **Standard Deviation**: The square root of variance, indicating how much data deviates from the mean in original units.  \n",
        "\n",
        "Both help understand data consistency—low values mean tightly clustered data, while high values indicate wide spread."
      ],
      "metadata": {
        "id": "owRg4v4ed3I3"
      }
    },
    {
      "cell_type": "markdown",
      "source": [
        "Q4. What is a box plot, and what can it tell you about the distribution of data?"
      ],
      "metadata": {
        "id": "l0Avo5ned3Pk"
      }
    },
    {
      "cell_type": "markdown",
      "source": [
        "Ans. A **box plot** (or **box-and-whisker plot**) visually represents data distribution using five key statistics: **minimum, first quartile (Q1), median (Q2), third quartile (Q3), and maximum**.  \n",
        "\n",
        "It helps identify **skewness, spread, central tendency, and outliers**—a longer whisker indicates skewness, while outliers appear as individual points beyond the whiskers."
      ],
      "metadata": {
        "id": "b8Yt7JtXd3SH"
      }
    },
    {
      "cell_type": "markdown",
      "source": [
        "Q5. Discuss the role of random sampling in making inferences about populations."
      ],
      "metadata": {
        "id": "R56bozHOd3U0"
      }
    },
    {
      "cell_type": "markdown",
      "source": [
        "Ans. **Random sampling** ensures that every individual in a population has an equal chance of selection, making samples **unbiased and representative**.  \n",
        "\n",
        "It helps in making **accurate inferences** about populations, reducing bias, and allowing for **generalization** in statistical analysis, such as surveys, experiments, and predictive modeling."
      ],
      "metadata": {
        "id": "AtCFGo1Nd3XN"
      }
    },
    {
      "cell_type": "markdown",
      "source": [
        "Q6. Explain the concept of skewness and its types. How does skewness affect the interpretation of data?\n",
        "\n",
        "\n"
      ],
      "metadata": {
        "id": "5FCOl1P7d3Z1"
      }
    },
    {
      "cell_type": "markdown",
      "source": [
        "Ans. **Skewness** measures the asymmetry of a dataset's distribution.  \n",
        "\n",
        "- **Positive Skew (Right-Skewed)**: Tail on the right, mean > median (e.g., income distribution).  \n",
        "- **Negative Skew (Left-Skewed)**: Tail on the left, mean < median (e.g., exam scores).  \n",
        "- **Zero Skew (Symmetric)**: Mean = Median = Mode (e.g., normal distribution).  \n",
        "\n",
        "Skewness affects interpretation by influencing measures of central tendency and indicating potential data transformation needs."
      ],
      "metadata": {
        "id": "dGC3Znsod3cv"
      }
    },
    {
      "cell_type": "markdown",
      "source": [
        "Q7. What is the interquartile range (IQR), and how is it used to detect outliers?"
      ],
      "metadata": {
        "id": "Ph70oRt1d3ff"
      }
    },
    {
      "cell_type": "markdown",
      "source": [
        "Ans. The **Interquartile Range (IQR)** measures data spread by calculating the difference between the **third quartile (Q3) and first quartile (Q1)**:  \n",
        "\n",
        "\\[\n",
        "IQR = Q3 - Q1\n",
        "\\]  \n",
        "\n",
        "To detect **outliers**, values beyond **1.5 × IQR** below Q1 or above Q3 are considered extreme. This helps identify unusually high or low data points."
      ],
      "metadata": {
        "id": "CRZTWnc8d3ib"
      }
    },
    {
      "cell_type": "markdown",
      "source": [
        "Q8. Discuss the conditions under which the binomial distribution is used."
      ],
      "metadata": {
        "id": "0LLz-SY7d3k4"
      }
    },
    {
      "cell_type": "markdown",
      "source": [
        "Ans. The **binomial distribution** is used when:  \n",
        "\n",
        "1. **Fixed number of trials (n)** – A set number of experiments or observations.  \n",
        "2. **Two possible outcomes** – Each trial results in **success** or **failure**.  \n",
        "3. **Constant probability (p)** – The probability of success remains the same in all trials.  \n",
        "4. **Independent trials** – The outcome of one trial does not affect another.  \n",
        "\n",
        "Example: Tossing a coin **10 times** (success = heads, failure = tails)."
      ],
      "metadata": {
        "id": "dh6zYF-ad3n8"
      }
    },
    {
      "cell_type": "markdown",
      "source": [
        "Q9. Explain the properties of the normal distribution and the empirical rule (68-95-99.7 rule)."
      ],
      "metadata": {
        "id": "SC-IGKdlfV0I"
      }
    },
    {
      "cell_type": "markdown",
      "source": [
        "Ans. The **normal distribution** is a symmetric, bell-shaped curve characterized by:  \n",
        "\n",
        "- **Mean = Median = Mode**  \n",
        "- **Symmetry around the mean**  \n",
        "- **Asymptotic tails** (never touch the x-axis)  \n",
        "- **Defined by mean (μ) and standard deviation (σ)**  \n",
        "\n",
        "### **Empirical Rule (68-95-99.7 Rule):**  \n",
        "For a normal distribution:  \n",
        "- **68%** of data falls within **1σ** of the mean.  \n",
        "- **95%** falls within **2σ**.  \n",
        "- **99.7%** falls within **3σ**.  \n",
        "\n",
        "This helps in predicting data spread and identifying outliers."
      ],
      "metadata": {
        "id": "EJLaHeEzfV91"
      }
    },
    {
      "cell_type": "markdown",
      "source": [
        "Q10. Provide a real-life example of a Poisson process and calculate the probability for a specific event.\n",
        "\n",
        "\n"
      ],
      "metadata": {
        "id": "YIvboljpfWB3"
      }
    },
    {
      "cell_type": "markdown",
      "source": [
        "Ans. Real-Life Example of a Poisson Process:\n",
        "A Poisson process models events occurring randomly over time or space at a constant rate.\n",
        "\n",
        "Example: A call center receives an average of 5 calls per hour. What is the probability of receiving exactly 3 calls in an hour?\n",
        "\n",
        "Poisson Probability Formula:\n",
        "𝑃\n",
        "(\n",
        "𝑋\n",
        "=\n",
        "𝑘\n",
        ")\n",
        "=\n",
        "𝑒\n",
        "−\n",
        "𝜆\n",
        "𝜆\n",
        "𝑘\n",
        "𝑘\n",
        "!\n",
        "P(X=k)=\n",
        "k!\n",
        "e\n",
        "−λ\n",
        " λ\n",
        "k\n",
        "\n",
        "​\n",
        "\n",
        "where:\n",
        "\n",
        "𝜆\n",
        "=\n",
        "5\n",
        "λ=5 (average calls per hour)\n",
        "𝑘\n",
        "=\n",
        "3\n",
        "k=3 (desired number of calls)\n",
        "𝑒\n",
        "≈\n",
        "2.718\n",
        "e≈2.718\n",
        "Calculation:\n",
        "𝑃\n",
        "(\n",
        "𝑋\n",
        "=\n",
        "3\n",
        ")\n",
        "=\n",
        "𝑒\n",
        "−\n",
        "5\n",
        "⋅\n",
        "5\n",
        "3\n",
        "3\n",
        "!\n",
        "=\n",
        "2.718\n",
        "−\n",
        "5\n",
        "⋅\n",
        "125\n",
        "6\n",
        "P(X=3)=\n",
        "3!\n",
        "e\n",
        "−5\n",
        " ⋅5\n",
        "3\n",
        "\n",
        "​\n",
        " =\n",
        "6\n",
        "2.718\n",
        "−5\n",
        " ⋅125\n",
        "​\n",
        "\n",
        "Let me calculate the exact value.\n",
        "\n",
        "The probability of receiving exactly 3 calls in an hour is approximately 0.1404 (14.04%)."
      ],
      "metadata": {
        "id": "cTFr5-w3fWE_"
      }
    },
    {
      "cell_type": "markdown",
      "source": [
        "Q11. Explain what a random variable is and differentiate between discrete and continuous random variables."
      ],
      "metadata": {
        "id": "4gzoVN1jfWIt"
      }
    },
    {
      "cell_type": "markdown",
      "source": [
        "Ans. A **random variable** is a numerical outcome of a random experiment.  \n",
        "\n",
        "### **Types of Random Variables:**  \n",
        "1. **Discrete Random Variable**:  \n",
        "   - Takes **countable** values (e.g., 0, 1, 2, …).  \n",
        "   - Example: Number of cars in a parking lot.  \n",
        "\n",
        "2. **Continuous Random Variable**:  \n",
        "   - Takes **uncountable** values within a range.  \n",
        "   - Example: Height of students in a class (can be 5.6 ft, 5.65 ft, etc.)."
      ],
      "metadata": {
        "id": "k4OdxckPfWLy"
      }
    },
    {
      "cell_type": "markdown",
      "source": [
        "Q12. Provide an example dataset, calculate both covariance and correlation, and interpret the results."
      ],
      "metadata": {
        "id": "Ch4a_kF3fWPQ"
      }
    },
    {
      "cell_type": "markdown",
      "source": [
        "Ans. ### **Example Dataset:**  \n",
        "We have two variables: **Study Hours (X)** and **Exam Scores (Y)**  \n",
        "\n",
        "| Student | Study Hours (X) | Exam Score (Y) |\n",
        "|---------|---------------|-------------|\n",
        "| 1       | 2             | 50          |\n",
        "| 2       | 4             | 60          |\n",
        "| 3       | 6             | 70          |\n",
        "| 4       | 8             | 80          |\n",
        "| 5       | 10            | 90          |\n",
        "\n",
        "### **Covariance Formula:**  \n",
        "\\[\n",
        "Cov(X, Y) = \\frac{\\sum (X_i - \\bar{X}) (Y_i - \\bar{Y})}{n}\n",
        "\\]\n",
        "\n",
        "### **Correlation Formula (Pearson’s r):**  \n",
        "\\[\n",
        "r = \\frac{Cov(X, Y)}{\\sigma_X \\sigma_Y}\n",
        "\\]\n",
        "\n",
        "Let's calculate both covariance and correlation.\n",
        "\n",
        "### **Results & Interpretation:**  \n",
        "- **Covariance = 40.0** → Positive value indicates that as study hours increase, exam scores also increase.  \n",
        "- **Correlation (r) = 1.0** → Perfect positive correlation, meaning study hours and exam scores have a **direct linear relationship** (more study hours lead to higher scores)."
      ],
      "metadata": {
        "id": "1KFMBNfxfWTK"
      }
    }
  ]
}