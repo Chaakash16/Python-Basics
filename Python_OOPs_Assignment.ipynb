{
  "nbformat": 4,
  "nbformat_minor": 0,
  "metadata": {
    "colab": {
      "provenance": [],
      "collapsed_sections": [
        "F2PQnwVtyalz",
        "u_9yYcGL1i9j"
      ],
      "authorship_tag": "ABX9TyPrKiMP/ruu+Q/IKzl9AfJZ",
      "include_colab_link": true
    },
    "kernelspec": {
      "name": "python3",
      "display_name": "Python 3"
    },
    "language_info": {
      "name": "python"
    }
  },
  "cells": [
    {
      "cell_type": "markdown",
      "metadata": {
        "id": "view-in-github",
        "colab_type": "text"
      },
      "source": [
        "<a href=\"https://colab.research.google.com/github/Chaakash16/Python-Basics/blob/main/Python_OOPs_Assignment.ipynb\" target=\"_parent\"><img src=\"https://colab.research.google.com/assets/colab-badge.svg\" alt=\"Open In Colab\"/></a>"
      ]
    },
    {
      "cell_type": "markdown",
      "source": [
        "#**Theoretical**\n"
      ],
      "metadata": {
        "id": "F2PQnwVtyalz"
      }
    },
    {
      "cell_type": "markdown",
      "source": [
        "Q1. What is Object-Oriented Programming (OOP)?"
      ],
      "metadata": {
        "id": "76tIzU8wyael"
      }
    },
    {
      "cell_type": "markdown",
      "source": [
        "Ans. Object-Oriented Programming (OOP) is a programming paradigm based on the concept of objects, which encapsulate data and behavior."
      ],
      "metadata": {
        "id": "jOSYOgseyaZh"
      }
    },
    {
      "cell_type": "markdown",
      "source": [
        "Q2. What is a class in OOP?"
      ],
      "metadata": {
        "id": "ewQHVbatyaUh"
      }
    },
    {
      "cell_type": "markdown",
      "source": [
        "Ans. A class in OOP is a blueprint or template for creating objects, defining their properties (attributes) and behaviors (methods)."
      ],
      "metadata": {
        "id": "DKe47TbzyaLX"
      }
    },
    {
      "cell_type": "markdown",
      "source": [
        "Q3. What is an object in OOP?"
      ],
      "metadata": {
        "id": "lpajKy-byaFE"
      }
    },
    {
      "cell_type": "markdown",
      "source": [
        "Ans. An object in OOP is an instance of a class that represents a specific entity with attributes (data) and methods (functions) defined by the class."
      ],
      "metadata": {
        "id": "Dbu5lapvyZ_M"
      }
    },
    {
      "cell_type": "markdown",
      "source": [
        "Q4. What is the difference between abstraction and encapsulation?"
      ],
      "metadata": {
        "id": "6CQrJKAtyZ8D"
      }
    },
    {
      "cell_type": "markdown",
      "source": [
        "Ans. **Abstraction** hides complexity by showing only essential features, while **encapsulation** bundles data and methods together, restricting direct access to some components."
      ],
      "metadata": {
        "id": "R00Z90qZyZ4m"
      }
    },
    {
      "cell_type": "markdown",
      "source": [
        "Q5. What are dunder methods in Python?"
      ],
      "metadata": {
        "id": "bD7YeSX3yZ1h"
      }
    },
    {
      "cell_type": "markdown",
      "source": [
        "Ans. Dunder methods (short for \"double underscore methods\") in Python are special methods that begin and end with double underscores, like `__init__()` or `__str__()`, used to define object behavior for built-in operations."
      ],
      "metadata": {
        "id": "AW1qaUWvyZwn"
      }
    },
    {
      "cell_type": "markdown",
      "source": [
        "Q6. Explain the concept of inheritance in OOP."
      ],
      "metadata": {
        "id": "hNF6XiJYyZpp"
      }
    },
    {
      "cell_type": "markdown",
      "source": [
        "Ans. Inheritance in OOP is a mechanism where a new class (subclass) inherits attributes and methods from an existing class (superclass), allowing code reuse and the creation of hierarchical relationships."
      ],
      "metadata": {
        "id": "vbpuXb_MyZkL"
      }
    },
    {
      "cell_type": "markdown",
      "source": [
        "Q7. What is polymorphism in OOP?"
      ],
      "metadata": {
        "id": "STA-P56-yZgg"
      }
    },
    {
      "cell_type": "markdown",
      "source": [
        "Ans. Polymorphism in OOP is the ability of different objects to respond to the same method or function call in their own way, allowing for multiple implementations of the same interface."
      ],
      "metadata": {
        "id": "5wP_T6dlyZdA"
      }
    },
    {
      "cell_type": "markdown",
      "source": [
        "Q8. How is encapsulation achieved in Python?"
      ],
      "metadata": {
        "id": "15ESNOvKyZZe"
      }
    },
    {
      "cell_type": "markdown",
      "source": [
        "Ans. Encapsulation in Python is achieved by bundling data (attributes) and methods (functions) within a class and restricting access to the class's internal state using private or protected attributes, typically with naming conventions like `_` or `__`."
      ],
      "metadata": {
        "id": "rd31_S0syZUD"
      }
    },
    {
      "cell_type": "markdown",
      "source": [
        "Q9. What is a constructor in Python?"
      ],
      "metadata": {
        "id": "gLcEMeELyZMG"
      }
    },
    {
      "cell_type": "markdown",
      "source": [
        "Ans. A constructor in Python is a special method `__init__()` that is automatically called when a new object of a class is created, used to initialize the object's attributes."
      ],
      "metadata": {
        "id": "zlvyTNUHyZDw"
      }
    },
    {
      "cell_type": "markdown",
      "source": [
        "Q10. What are class and static methods in Python?"
      ],
      "metadata": {
        "id": "VkYyvW4EyY75"
      }
    },
    {
      "cell_type": "markdown",
      "source": [
        "Ans. **Class methods** are bound to the class and take `cls` as the first parameter, while **static methods** are independent of class and instance, not taking `self` or `cls`."
      ],
      "metadata": {
        "id": "2JJoPatEyY0u"
      }
    },
    {
      "cell_type": "markdown",
      "source": [
        "Q11. What is method overloading in Python?"
      ],
      "metadata": {
        "id": "xF0SIeclyYwt"
      }
    },
    {
      "cell_type": "markdown",
      "source": [
        "Ans. Method overloading in Python refers to the ability to define multiple methods with the same name but different parameters, although Python doesn't support traditional overloading and instead uses default arguments or variable-length arguments to achieve similar behavior."
      ],
      "metadata": {
        "id": "VbJQDax5yYr-"
      }
    },
    {
      "cell_type": "markdown",
      "source": [
        "Q12. What is method overriding in OOP?"
      ],
      "metadata": {
        "id": "eEZUIQTMyYnt"
      }
    },
    {
      "cell_type": "markdown",
      "source": [
        "Ans. Method overriding in OOP occurs when a subclass provides a specific implementation of a method that is already defined in its superclass, allowing the subclass to modify or extend the behavior of the inherited method."
      ],
      "metadata": {
        "id": "5dNZrwCUyYjd"
      }
    },
    {
      "cell_type": "markdown",
      "source": [
        "Q13. What is a property decorator in Python?"
      ],
      "metadata": {
        "id": "o0qsvIp5yYfF"
      }
    },
    {
      "cell_type": "markdown",
      "source": [
        "Ans. The **`@property` decorator** in Python is used to define a method as a property, allowing it to be accessed like an attribute without explicitly calling it as a method. It is typically used to manage attribute access and make getter and setter methods more readable."
      ],
      "metadata": {
        "id": "8tv7K0oZyYVb"
      }
    },
    {
      "cell_type": "markdown",
      "source": [
        "Q14. Why is polymorphism important in OOP?"
      ],
      "metadata": {
        "id": "hIPxmThryYMW"
      }
    },
    {
      "cell_type": "markdown",
      "source": [
        "Ans. Polymorphism is important in OOP because it allows objects of different classes to be treated as instances of the same class through a common interface, enabling flexibility, code reuse, and easier maintenance."
      ],
      "metadata": {
        "id": "l-7Q7ybQyYGb"
      }
    },
    {
      "cell_type": "markdown",
      "source": [
        "Q15. What is an abstract class in Python?"
      ],
      "metadata": {
        "id": "8QYLEDuEyYCM"
      }
    },
    {
      "cell_type": "markdown",
      "source": [
        "Ans. An **abstract class** in Python is a class that cannot be instantiated directly and is used to define common interfaces for its subclasses. It contains one or more **abstract methods**, which are methods that must be implemented by subclasses. Abstract classes are defined using the `abc` module.\n"
      ],
      "metadata": {
        "id": "NtWgcOPsyX9H"
      }
    },
    {
      "cell_type": "markdown",
      "source": [
        "Q16. What are the advantages of OOP?"
      ],
      "metadata": {
        "id": "phO7SUvOyX4M"
      }
    },
    {
      "cell_type": "markdown",
      "source": [
        "Ans. The advantages of OOP include **modularity**, **reusability**, and **maintainability**, which help in organizing, reusing, and easily updating code."
      ],
      "metadata": {
        "id": "VFWMYYMxyX1m"
      }
    },
    {
      "cell_type": "markdown",
      "source": [
        "Q17.  What is the difference between a class variable and an instance variable?"
      ],
      "metadata": {
        "id": "WObFFWBJyXrH"
      }
    },
    {
      "cell_type": "markdown",
      "source": [
        "Ans. A **class variable** is shared by all instances of a class, while an **instance variable** is specific to each instance of the class."
      ],
      "metadata": {
        "id": "fxI-FLzIyXni"
      }
    },
    {
      "cell_type": "markdown",
      "source": [
        "Q18. What is multiple inheritance in Python?"
      ],
      "metadata": {
        "id": "LqNhF0CRyXkv"
      }
    },
    {
      "cell_type": "markdown",
      "source": [
        "Ans. Multiple inheritance in Python is a feature where a class can inherit attributes and methods from more than one parent class."
      ],
      "metadata": {
        "id": "w3wuX5rwyXhc"
      }
    },
    {
      "cell_type": "markdown",
      "source": [
        "Q19. Explain the purpose of ‘’__str__’ and ‘__repr__’ ‘ methods in Python."
      ],
      "metadata": {
        "id": "vrkXW4GkyXbD"
      }
    },
    {
      "cell_type": "markdown",
      "source": [
        "Ans. The `__str__` method in Python is used to define a human-readable string representation of an object, typically for display, while the `__repr__` method is used to define a formal string representation of an object, intended for debugging or logging and often to recreate the object."
      ],
      "metadata": {
        "id": "L44tlAOcyXUN"
      }
    },
    {
      "cell_type": "markdown",
      "source": [
        "Q20. What is the significance of the ‘super()’ function in Python?"
      ],
      "metadata": {
        "id": "aLh1DRr4yXRZ"
      }
    },
    {
      "cell_type": "markdown",
      "source": [
        "Ans. The `super()` function in Python is used to call methods from a parent class in a subclass, allowing for method overriding and enabling the inheritance of behavior from the superclass."
      ],
      "metadata": {
        "id": "YItxo9_JyXNi"
      }
    },
    {
      "cell_type": "markdown",
      "source": [
        "Q21. What is the significance of the __del__ method in Python?"
      ],
      "metadata": {
        "id": "wmgELpvAyXFS"
      }
    },
    {
      "cell_type": "markdown",
      "source": [
        "Ans. The `__del__` method in Python is a destructor method that is automatically called when an object is about to be destroyed, allowing it to clean up resources or perform other necessary cleanup operations before the object is removed from memory."
      ],
      "metadata": {
        "id": "Sqxdr63DyXCe"
      }
    },
    {
      "cell_type": "markdown",
      "source": [
        "Q22. What is the difference between @staticmethod and @classmethod in Python?"
      ],
      "metadata": {
        "id": "XSiWGc7kyW_6"
      }
    },
    {
      "cell_type": "markdown",
      "source": [
        "Ans. `@staticmethod` doesn't take `self` or `cls`, while `@classmethod` takes `cls` and can modify class-level attributes."
      ],
      "metadata": {
        "id": "pkJowv1AyW8o"
      }
    },
    {
      "cell_type": "markdown",
      "source": [
        "Q23. How does polymorphism work in Python with inheritance?"
      ],
      "metadata": {
        "id": "RKWiMyWdyW5n"
      }
    },
    {
      "cell_type": "markdown",
      "source": [
        "Ans. Polymorphism in Python with inheritance allows a subclass to provide a specific implementation of a method that is defined in a parent class, enabling the same method name to behave differently depending on the object’s class."
      ],
      "metadata": {
        "id": "YY0kuHzp1jQk"
      }
    },
    {
      "cell_type": "markdown",
      "source": [
        "Q24. What is method chaining in Python OOP?"
      ],
      "metadata": {
        "id": "heFV6Mh21jN8"
      }
    },
    {
      "cell_type": "markdown",
      "source": [
        "Ans. Method chaining in Python OOP refers to calling multiple methods on the same object in a single line, where each method returns the object itself (usually `self`), allowing further method calls."
      ],
      "metadata": {
        "id": "4XUptkWY1jFW"
      }
    },
    {
      "cell_type": "markdown",
      "source": [
        "Q25.What is the purpose of the __call__ method in Python?"
      ],
      "metadata": {
        "id": "XUBkC8p11jC0"
      }
    },
    {
      "cell_type": "markdown",
      "source": [
        "Ans. The `__call__` method in Python allows an instance of a class to be called like a function, enabling the object to behave as if it were a callable."
      ],
      "metadata": {
        "id": "B2uGtlAe1jAd"
      }
    },
    {
      "cell_type": "markdown",
      "source": [
        "#**Practical**"
      ],
      "metadata": {
        "id": "u_9yYcGL1i9j"
      }
    },
    {
      "cell_type": "markdown",
      "source": [
        "Q1. Create a parent class Animal with a method speak() that prints a generic message. Create a child class Dog\n",
        "that overrides the speak() method to print \"Bark!\"."
      ],
      "metadata": {
        "id": "Rt2SaWhR2H-H"
      }
    },
    {
      "cell_type": "code",
      "source": [
        "class Animal:\n",
        "    def speak(self):\n",
        "        print(\"Animal makes a sound.\")\n",
        "\n",
        "class Dog(Animal):\n",
        "    def speak(self):\n",
        "        print(\"Bark!\")\n",
        "\n",
        "dog = Dog()\n",
        "dog.speak()"
      ],
      "metadata": {
        "colab": {
          "base_uri": "https://localhost:8080/"
        },
        "id": "P75-_K8H17t4",
        "outputId": "5f9c5097-1d8c-4b0c-8af8-2a3acdadfc34"
      },
      "execution_count": 1,
      "outputs": [
        {
          "output_type": "stream",
          "name": "stdout",
          "text": [
            "Bark!\n"
          ]
        }
      ]
    },
    {
      "cell_type": "markdown",
      "source": [
        "Q2. Write a program to create an abstract class Shape with a method area(). Derive classes Circle and Rectangle\n",
        "from it and implement the area() method in both."
      ],
      "metadata": {
        "id": "WDQWvkd92IkE"
      }
    },
    {
      "cell_type": "code",
      "source": [
        "from abc import ABC, abstractmethod\n",
        "import math\n",
        "\n",
        "class Shape(ABC):\n",
        "    @abstractmethod\n",
        "    def area(self):\n",
        "        pass\n",
        "\n",
        "class Circle(Shape):\n",
        "    def __init__(self, radius):\n",
        "        self.radius = radius\n",
        "\n",
        "    def area(self):\n",
        "        return math.pi * self.radius ** 2\n",
        "\n",
        "class Rectangle(Shape):\n",
        "    def __init__(self, length, width):\n",
        "        self.length = length\n",
        "        self.width = width\n",
        "\n",
        "    def area(self):\n",
        "        return self.length * self.width\n",
        "\n",
        "circle = Circle(5)\n",
        "print(\"Circle area:\", circle.area())\n",
        "\n",
        "rectangle = Rectangle(4, 6)\n",
        "print(\"Rectangle area:\", rectangle.area())"
      ],
      "metadata": {
        "colab": {
          "base_uri": "https://localhost:8080/"
        },
        "id": "maJ7mxxr2JDg",
        "outputId": "fdb5465d-7ae9-4519-cbc2-770d7a62c0cc"
      },
      "execution_count": 2,
      "outputs": [
        {
          "output_type": "stream",
          "name": "stdout",
          "text": [
            "Circle area: 78.53981633974483\n",
            "Rectangle area: 24\n"
          ]
        }
      ]
    },
    {
      "cell_type": "markdown",
      "source": [
        "Q3.  Implement a multi-level inheritance scenario where a class Vehicle has an attribute type. Derive a class Car\n",
        "and further derive a class ElectricCar that adds a battery attribute."
      ],
      "metadata": {
        "id": "DwdnUPEZ2KyC"
      }
    },
    {
      "cell_type": "code",
      "source": [
        "class Vehicle:\n",
        "    def __init__(self, type):\n",
        "        self.type = type\n",
        "\n",
        "class Car(Vehicle):\n",
        "    def __init__(self, type, model):\n",
        "        super().__init__(type)\n",
        "        self.model = model\n",
        "\n",
        "class ElectricCar(Car):\n",
        "    def __init__(self, type, model, battery):\n",
        "        super().__init__(type, model)\n",
        "        self.battery = battery\n",
        "\n",
        "vehicle = Vehicle(\"Vehicle\")\n",
        "car = Car(\"Car\", \"Sedan\")\n",
        "electric_car = ElectricCar(\"Electric Car\", \"Tesla Model 3\", \"75 kWh\")\n",
        "\n",
        "print(\"Vehicle type:\", vehicle.type)\n",
        "print(\"Car model:\", car.model, \"Type:\", car.type)\n",
        "print(\"Electric Car model:\", electric_car.model, \"Type:\", electric_car.type, \"Battery:\", electric_car.battery)"
      ],
      "metadata": {
        "colab": {
          "base_uri": "https://localhost:8080/"
        },
        "id": "Z6Dg6o7J2LyF",
        "outputId": "9336f407-73fd-4ee2-d04f-0ff0bac7c5b1"
      },
      "execution_count": 5,
      "outputs": [
        {
          "output_type": "stream",
          "name": "stdout",
          "text": [
            "Vehicle type: Vehicle\n",
            "Car model: Sedan Type: Car\n",
            "Electric Car model: Tesla Model 3 Type: Electric Car Battery: 75 kWh\n"
          ]
        }
      ]
    },
    {
      "cell_type": "markdown",
      "source": [
        "Q4.  Implement a multi-level inheritance scenario where a class Vehicle has an attribute type. Derive a class Car\n",
        "and further derive a class ElectricCar that adds a battery attribute."
      ],
      "metadata": {
        "id": "U9WV1T2t3RHL"
      }
    },
    {
      "cell_type": "code",
      "source": [
        "class Vehicle:\n",
        "    def __init__(self, type):\n",
        "        self.type = type\n",
        "\n",
        "class Car(Vehicle):\n",
        "    def __init__(self, type, model):\n",
        "        super().__init__(type)\n",
        "        self.model = model\n",
        "\n",
        "class ElectricCar(Car):\n",
        "    def __init__(self, type, model, battery):\n",
        "        super().__init__(type, model)\n",
        "        self.battery = battery\n",
        "\n",
        "vehicle = Vehicle(\"Vehicle\")\n",
        "car = Car(\"Car\", \"Sedan\")\n",
        "electric_car = ElectricCar(\"Electric Car\", \"Tesla Model 3\", \"75 kWh\")\n",
        "\n",
        "print(\"Vehicle type:\", vehicle.type)\n",
        "print(\"Car model:\", car.model, \"Type:\", car.type)\n",
        "print(\"Electric Car model:\", electric_car.model, \"Type:\", electric_car.type, \"Battery:\", electric_car.battery)"
      ],
      "metadata": {
        "colab": {
          "base_uri": "https://localhost:8080/"
        },
        "id": "BHopjxre3AIA",
        "outputId": "7c408442-4eb5-401d-e52a-f8468ab4eac4"
      },
      "execution_count": 6,
      "outputs": [
        {
          "output_type": "stream",
          "name": "stdout",
          "text": [
            "Vehicle type: Vehicle\n",
            "Car model: Sedan Type: Car\n",
            "Electric Car model: Tesla Model 3 Type: Electric Car Battery: 75 kWh\n"
          ]
        }
      ]
    },
    {
      "cell_type": "markdown",
      "source": [
        "Q5. Write a program to demonstrate encapsulation by creating a class BankAccount with private attributes\n",
        "balance and methods to deposit, withdraw, and check balance."
      ],
      "metadata": {
        "id": "1XvFPmdA3RoR"
      }
    },
    {
      "cell_type": "code",
      "source": [
        "class BankAccount:\n",
        "    def __init__(self, owner, balance=0):\n",
        "        self.owner = owner\n",
        "        self.__balance = balance\n",
        "\n",
        "    def deposit(self, amount):\n",
        "        if amount > 0:\n",
        "            self.__balance += amount\n",
        "            print(f\"Deposited {amount}. New balance: {self.__balance}\")\n",
        "        else:\n",
        "            print(\"Deposit amount must be positive.\")\n",
        "\n",
        "    def withdraw(self, amount):\n",
        "        if amount > 0 and amount <= self.__balance:\n",
        "            self.__balance -= amount\n",
        "            print(f\"Withdrew {amount}. New balance: {self.__balance}\")\n",
        "        elif amount > self.__balance:\n",
        "            print(\"Insufficient funds.\")\n",
        "        else:\n",
        "            print(\"Withdrawal amount must be positive.\")\n",
        "\n",
        "    def check_balance(self):\n",
        "        print(f\"Current balance: {self.__balance}\")\n",
        "\n",
        "account = BankAccount(\"Aakash\", 1000)\n",
        "account.deposit(500)\n",
        "account.withdraw(200)\n",
        "account.check_balance()"
      ],
      "metadata": {
        "colab": {
          "base_uri": "https://localhost:8080/"
        },
        "id": "ZkuhiPwz3SA5",
        "outputId": "61e4d7b7-6134-4d6a-cd7f-64ea84ef5519"
      },
      "execution_count": 17,
      "outputs": [
        {
          "output_type": "stream",
          "name": "stdout",
          "text": [
            "Deposited 500. New balance: 1500\n",
            "Withdrew 200. New balance: 1300\n",
            "Current balance: 1300\n"
          ]
        }
      ]
    },
    {
      "cell_type": "markdown",
      "source": [
        "Q6. Demonstrate runtime polymorphism using a method play() in a base class Instrument. Derive classes Guitar\n",
        "and Piano that implement their own version of play()."
      ],
      "metadata": {
        "id": "qePUvSbo3Sen"
      }
    },
    {
      "cell_type": "code",
      "source": [
        "class Instrument:\n",
        "    def play(self):\n",
        "        raise NotImplementedError(\"Subclass must implement abstract method\")\n",
        "\n",
        "class Guitar(Instrument):\n",
        "    def play(self):\n",
        "        return \"Strumming the strings of the Guitar.\"\n",
        "\n",
        "class Piano(Instrument):\n",
        "    def play(self):\n",
        "        return \"Playing the keys of the Piano.\"\n",
        "\n",
        "class Drums(Instrument):\n",
        "    def play(self):\n",
        "        return \"Beating the Drums.\"\n",
        "\n",
        "def demonstrate_play(instrument):\n",
        "    print(instrument.play())\n",
        "\n",
        "# Creating objects of each instrument\n",
        "guitar = Guitar()\n",
        "piano = Piano()\n",
        "drums = Drums()\n",
        "\n",
        "# Demonstrating runtime polymorphism\n",
        "demonstrate_play(guitar)\n",
        "demonstrate_play(piano)\n",
        "demonstrate_play(drums)"
      ],
      "metadata": {
        "colab": {
          "base_uri": "https://localhost:8080/"
        },
        "id": "gebCiLoi3TBe",
        "outputId": "65b78328-d6e5-401b-d530-f8aac60a0e3b"
      },
      "execution_count": 9,
      "outputs": [
        {
          "output_type": "stream",
          "name": "stdout",
          "text": [
            "Strumming the strings of the Guitar.\n",
            "Playing the keys of the Piano.\n",
            "Beating the Drums.\n"
          ]
        }
      ]
    },
    {
      "cell_type": "markdown",
      "source": [
        "Q7.  Create a class MathOperations with a class method add_numbers() to add two numbers and a static\n",
        "method subtract_numbers() to subtract two numbers."
      ],
      "metadata": {
        "id": "42M9gq_V4MbM"
      }
    },
    {
      "cell_type": "code",
      "source": [
        "class MathOperations:\n",
        "    @classmethod\n",
        "    def add_numbers(cls, num1, num2):\n",
        "        return num1 + num2\n",
        "\n",
        "    @staticmethod\n",
        "    def subtract_numbers(num1, num2):\n",
        "        return num1 - num2\n",
        "\n",
        "# Example\n",
        "sum_result = MathOperations.add_numbers(5, 3)\n",
        "difference_result = MathOperations.subtract_numbers(5, 3)\n",
        "\n",
        "print(\"Sum:\", sum_result)\n",
        "print(\"Difference:\", difference_result)"
      ],
      "metadata": {
        "colab": {
          "base_uri": "https://localhost:8080/"
        },
        "id": "M019mKyp30fU",
        "outputId": "cb032db6-b0de-45e6-c3e7-76f0dc07d124"
      },
      "execution_count": 10,
      "outputs": [
        {
          "output_type": "stream",
          "name": "stdout",
          "text": [
            "Sum: 8\n",
            "Difference: 2\n"
          ]
        }
      ]
    },
    {
      "cell_type": "markdown",
      "source": [
        "Q8.  Implement a class Person with a class method to count the total number of persons created."
      ],
      "metadata": {
        "id": "INmRQPe64Y8l"
      }
    },
    {
      "cell_type": "code",
      "source": [
        "class Person:\n",
        "    total_persons = 0\n",
        "\n",
        "    def __init__(self, name):\n",
        "        self.name = name\n",
        "        Person.total_persons += 1\n",
        "\n",
        "    @classmethod\n",
        "    def count_persons(cls):\n",
        "        return cls.total_persons\n",
        "\n",
        "# Example\n",
        "person1 = Person(\"Aakash\")\n",
        "person2 = Person(\"Rohit\")\n",
        "person3 = Person(\"Paras\")\n",
        "\n",
        "print(\"Total persons created:\", Person.count_persons())"
      ],
      "metadata": {
        "colab": {
          "base_uri": "https://localhost:8080/"
        },
        "id": "--bT5XqP4W1l",
        "outputId": "1866462d-a1a5-47c7-878a-63426497a53f"
      },
      "execution_count": 16,
      "outputs": [
        {
          "output_type": "stream",
          "name": "stdout",
          "text": [
            "Total persons created: 3\n"
          ]
        }
      ]
    },
    {
      "cell_type": "markdown",
      "source": [
        "Q9. Write a class Fraction with attributes numerator and denominator. Override the str method to display the\n",
        "fraction as \"numerator/denominator\"."
      ],
      "metadata": {
        "id": "XEouUdu_4ZRU"
      }
    },
    {
      "cell_type": "code",
      "source": [
        "class Fraction:\n",
        "    def __init__(self, numerator, denominator):\n",
        "        self.numerator = numerator\n",
        "        self.denominator = denominator\n",
        "\n",
        "    def __str__(self):\n",
        "        return f\"{self.numerator}/{self.denominator}\"\n",
        "\n",
        "# Example\n",
        "fraction = Fraction(3, 4)\n",
        "print(fraction)"
      ],
      "metadata": {
        "colab": {
          "base_uri": "https://localhost:8080/"
        },
        "id": "2upjwJ-O4Zs4",
        "outputId": "ee07a0fc-1b63-4d3c-90a6-7b082f2ae02f"
      },
      "execution_count": 12,
      "outputs": [
        {
          "output_type": "stream",
          "name": "stdout",
          "text": [
            "3/4\n"
          ]
        }
      ]
    },
    {
      "cell_type": "markdown",
      "source": [
        "Q10. Demonstrate operator overloading by creating a class Vector and overriding the add method to add two\n",
        "vectors."
      ],
      "metadata": {
        "id": "tpASyiZg4aCh"
      }
    },
    {
      "cell_type": "code",
      "source": [
        "class Vector:\n",
        "    def __init__(self, x, y):\n",
        "        self.x = x\n",
        "        self.y = y\n",
        "\n",
        "    def __add__(self, other):\n",
        "        return Vector(self.x + other.x, self.y + other.y)\n",
        "\n",
        "    def __str__(self):\n",
        "        return f\"({self.x}, {self.y})\"\n",
        "\n",
        "# Example\n",
        "vector1 = Vector(2, 3)\n",
        "vector2 = Vector(4, 5)\n",
        "\n",
        "result = vector1 + vector2\n",
        "print(\"Resultant Vector:\", result)"
      ],
      "metadata": {
        "colab": {
          "base_uri": "https://localhost:8080/"
        },
        "id": "mRT0osmJ4aVc",
        "outputId": "0ae9baca-979f-48b2-896f-5a029e9586b3"
      },
      "execution_count": 13,
      "outputs": [
        {
          "output_type": "stream",
          "name": "stdout",
          "text": [
            "Resultant Vector: (6, 8)\n"
          ]
        }
      ]
    },
    {
      "cell_type": "markdown",
      "source": [
        "Q11.  Create a class Person with attributes name and age. Add a method greet() that prints \"Hello, my name is\n",
        "{name} and I am {age} years old.\""
      ],
      "metadata": {
        "id": "QfKEVrqb4ajj"
      }
    },
    {
      "cell_type": "code",
      "source": [
        "class Person:\n",
        "    def __init__(self, name, age):\n",
        "        self.name = name\n",
        "        self.age = age\n",
        "\n",
        "    def greet(self):\n",
        "        print(f\"Hello, my name is {self.name} and I am {self.age} years old.\")\n",
        "\n",
        "# Example\n",
        "person = Person(\"Aakash\", 21)\n",
        "person.greet()"
      ],
      "metadata": {
        "colab": {
          "base_uri": "https://localhost:8080/"
        },
        "id": "o9TAz8hz4a0h",
        "outputId": "ce40d622-5bf8-43bc-e1bb-45e64c969230"
      },
      "execution_count": 15,
      "outputs": [
        {
          "output_type": "stream",
          "name": "stdout",
          "text": [
            "Hello, my name is Aakash and I am 21 years old.\n"
          ]
        }
      ]
    },
    {
      "cell_type": "markdown",
      "source": [
        "Q12.  Implement a class Student with attributes name and grades. Create a method average_grade() to compute\n",
        "the average of the grades."
      ],
      "metadata": {
        "id": "5SC1PlSy4bGo"
      }
    },
    {
      "cell_type": "code",
      "source": [
        "class Student:\n",
        "    def __init__(self, name, grades):\n",
        "        self.name = name\n",
        "        self.grades = grades\n",
        "\n",
        "    def average_grade(self):\n",
        "        return sum(self.grades) / len(self.grades) if self.grades else 0\n",
        "\n",
        "# Example\n",
        "student = Student(\"Raj\", [85, 90, 78, 92])\n",
        "print(f\"{student.name}'s average grade: {student.average_grade()}\")"
      ],
      "metadata": {
        "colab": {
          "base_uri": "https://localhost:8080/"
        },
        "id": "aY8_oK-25rlE",
        "outputId": "9f8cf33b-5ca9-41ba-fd32-c2ce4877240a"
      },
      "execution_count": 19,
      "outputs": [
        {
          "output_type": "stream",
          "name": "stdout",
          "text": [
            "Raj's average grade: 86.25\n"
          ]
        }
      ]
    },
    {
      "cell_type": "markdown",
      "source": [
        "Q13.  Create a class Rectangle with methods set_dimensions() to set the dimensions and area() to calculate the\n",
        "area."
      ],
      "metadata": {
        "id": "FgrNm7CF5zgy"
      }
    },
    {
      "cell_type": "code",
      "source": [
        "class Rectangle:\n",
        "    def __init__(self):\n",
        "        self.length = 0\n",
        "        self.width = 0\n",
        "\n",
        "    def set_dimensions(self, length, width):\n",
        "        self.length = length\n",
        "        self.width = width\n",
        "\n",
        "    def area(self):\n",
        "        return self.length * self.width\n",
        "\n",
        "# Example usage\n",
        "rectangle = Rectangle()\n",
        "rectangle.set_dimensions(5, 3)\n",
        "print(f\"Area of the rectangle: {rectangle.area()}\")"
      ],
      "metadata": {
        "colab": {
          "base_uri": "https://localhost:8080/"
        },
        "id": "vRzxdpt65v1f",
        "outputId": "68a91be6-8c81-4e60-f85a-4bdfd989f2cd"
      },
      "execution_count": 20,
      "outputs": [
        {
          "output_type": "stream",
          "name": "stdout",
          "text": [
            "Area of the rectangle: 15\n"
          ]
        }
      ]
    },
    {
      "cell_type": "markdown",
      "source": [
        "Q14. Create a class Employee with a method calculate_salary() that computes the salary based on hours worked\n",
        "and hourly rate. Create a derived class Manager that adds a bonus to the salary."
      ],
      "metadata": {
        "id": "Lox5OVog5z3R"
      }
    },
    {
      "cell_type": "code",
      "source": [
        "class Employee:\n",
        "    def __init__(self, name, hours_worked, hourly_rate):\n",
        "        self.name = name\n",
        "        self.hours_worked = hours_worked\n",
        "        self.hourly_rate = hourly_rate\n",
        "\n",
        "    def calculate_salary(self):\n",
        "        return self.hours_worked * self.hourly_rate\n",
        "\n",
        "class Manager(Employee):\n",
        "    def __init__(self, name, hours_worked, hourly_rate, bonus):\n",
        "        super().__init__(name, hours_worked, hourly_rate)\n",
        "        self.bonus = bonus\n",
        "\n",
        "    def calculate_salary(self):\n",
        "        base_salary = super().calculate_salary()\n",
        "        return base_salary + self.bonus\n",
        "\n",
        "# Example\n",
        "employee = Employee(\"Aakash\", 40, 20)\n",
        "manager = Manager(\"Vishal\", 40, 30, 1000)\n",
        "\n",
        "print(f\"{employee.name}'s salary: {employee.calculate_salary()}\")\n",
        "print(f\"{manager.name}'s salary: {manager.calculate_salary()}\")"
      ],
      "metadata": {
        "colab": {
          "base_uri": "https://localhost:8080/"
        },
        "id": "aVZl2vDL6A38",
        "outputId": "f9627eda-6bbf-4f8b-b530-77125dc23f78"
      },
      "execution_count": 24,
      "outputs": [
        {
          "output_type": "stream",
          "name": "stdout",
          "text": [
            "Aakash's salary: 800\n",
            "Vishal's salary: 2200\n"
          ]
        }
      ]
    },
    {
      "cell_type": "markdown",
      "source": [
        "Q15. Create a class Product with attributes name, price, and quantity. Implement a method total_price() that\n",
        "calculates the total price of the product."
      ],
      "metadata": {
        "id": "RB11OBMH6ZZu"
      }
    },
    {
      "cell_type": "code",
      "source": [
        "class Product:\n",
        "    def __init__(self, name, price, quantity):\n",
        "        self.name = name\n",
        "        self.price = price\n",
        "        self.quantity = quantity\n",
        "\n",
        "    def total_price(self):\n",
        "        return self.price * self.quantity\n",
        "\n",
        "# Example\n",
        "product = Product(\"Laptop\", 1000, 3)\n",
        "print(f\"Total price for {product.name}: {product.total_price()}\")"
      ],
      "metadata": {
        "colab": {
          "base_uri": "https://localhost:8080/"
        },
        "id": "They3Aoe6MzQ",
        "outputId": "e5cba32f-9291-4656-99e4-9b5e0c2c8d77"
      },
      "execution_count": 25,
      "outputs": [
        {
          "output_type": "stream",
          "name": "stdout",
          "text": [
            "Total price for Laptop: 3000\n"
          ]
        }
      ]
    },
    {
      "cell_type": "markdown",
      "source": [
        "Q16. Create a class Animal with an abstract method sound(). Create two derived classes Cow and Sheep that\n",
        "implement the sound() method."
      ],
      "metadata": {
        "id": "VpwsUvPl6ZsS"
      }
    },
    {
      "cell_type": "code",
      "source": [
        "from abc import ABC, abstractmethod\n",
        "\n",
        "class Animal(ABC):\n",
        "    @abstractmethod\n",
        "    def sound(self):\n",
        "        pass\n",
        "\n",
        "class Cow(Animal):\n",
        "    def sound(self):\n",
        "        return \"Moo\"\n",
        "\n",
        "class Sheep(Animal):\n",
        "    def sound(self):\n",
        "        return \"Baa\"\n",
        "\n",
        "cow = Cow()\n",
        "sheep = Sheep()\n",
        "\n",
        "print(f\"Cow sound: {cow.sound()}\")\n",
        "print(f\"Sheep sound: {sheep.sound()}\")"
      ],
      "metadata": {
        "colab": {
          "base_uri": "https://localhost:8080/"
        },
        "id": "dccarwaf6naT",
        "outputId": "72ecadea-a20e-4507-9b5b-2c99dc43c8d1"
      },
      "execution_count": 27,
      "outputs": [
        {
          "output_type": "stream",
          "name": "stdout",
          "text": [
            "Cow sound: Moo\n",
            "Sheep sound: Baa\n"
          ]
        }
      ]
    },
    {
      "cell_type": "markdown",
      "source": [
        "Q17.  Create a class Book with attributes title, author, and year_published. Add a method get_book_info() that\n",
        "returns a formatted string with the book's details."
      ],
      "metadata": {
        "id": "G8RXOYip601X"
      }
    },
    {
      "cell_type": "code",
      "source": [
        "class Book:\n",
        "    def __init__(self, title, author, year_published):\n",
        "        self.title = title\n",
        "        self.author = author\n",
        "        self.year_published = year_published\n",
        "\n",
        "    def get_book_info(self):\n",
        "        return f\"Title: {self.title}\\nAuthor: {self.author}\\nYear Published: {self.year_published}\"\n",
        "\n",
        "# Example\n",
        "book = Book(\"1984\", \"George Orwell\", 1949)\n",
        "print(book.get_book_info())"
      ],
      "metadata": {
        "colab": {
          "base_uri": "https://localhost:8080/"
        },
        "id": "QF_K8Uhk6swZ",
        "outputId": "eda67d62-1d31-440a-cb6c-48697f335173"
      },
      "execution_count": 29,
      "outputs": [
        {
          "output_type": "stream",
          "name": "stdout",
          "text": [
            "Title: 1984\n",
            "Author: George Orwell\n",
            "Year Published: 1949\n"
          ]
        }
      ]
    },
    {
      "cell_type": "markdown",
      "source": [
        "Q18. Create a class House with attributes address and price. Create a derived class Mansion that adds an\n",
        "attribute number_of_rooms."
      ],
      "metadata": {
        "id": "W4yK9fq461LY"
      }
    },
    {
      "cell_type": "code",
      "source": [
        "class House:\n",
        "    def __init__(self, address, price):\n",
        "        self.address = address\n",
        "        self.price = price\n",
        "\n",
        "    def get_details(self):\n",
        "        return f\"Address: {self.address}\\nPrice: ₹{self.price:,.2f}\"\n",
        "\n",
        "class Mansion(House):\n",
        "    def __init__(self, address, price, number_of_rooms):\n",
        "        super().__init__(address, price)\n",
        "        self.number_of_rooms = number_of_rooms\n",
        "\n",
        "    def get_details(self):\n",
        "        base_details = super().get_details()\n",
        "        return f\"{base_details}\\nNumber of Rooms: {self.number_of_rooms}\"\n",
        "\n",
        "# Example\n",
        "house = House(\"123 MG Road, Bangalore\", 2500000)\n",
        "mansion = Mansion(\"456 Luxury Avenue, Mumbai\", 20000000, 12)\n",
        "\n",
        "print(house.get_details())\n",
        "print(mansion.get_details())"
      ],
      "metadata": {
        "colab": {
          "base_uri": "https://localhost:8080/"
        },
        "id": "IlY5Eesw7Fia",
        "outputId": "b59721d8-ede7-43cb-ef33-05e7e9aa4b94"
      },
      "execution_count": 32,
      "outputs": [
        {
          "output_type": "stream",
          "name": "stdout",
          "text": [
            "Address: 123 MG Road, Bangalore\n",
            "Price: ₹2,500,000.00\n",
            "Address: 456 Luxury Avenue, Mumbai\n",
            "Price: ₹20,000,000.00\n",
            "Number of Rooms: 12\n"
          ]
        }
      ]
    }
  ]
}