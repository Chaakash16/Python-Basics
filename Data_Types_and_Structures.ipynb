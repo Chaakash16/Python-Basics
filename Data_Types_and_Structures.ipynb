{
  "nbformat": 4,
  "nbformat_minor": 0,
  "metadata": {
    "colab": {
      "provenance": [],
      "authorship_tag": "ABX9TyMqPMvLF5TzyeMkge5I6G1K",
      "include_colab_link": true
    },
    "kernelspec": {
      "name": "python3",
      "display_name": "Python 3"
    },
    "language_info": {
      "name": "python"
    }
  },
  "cells": [
    {
      "cell_type": "markdown",
      "metadata": {
        "id": "view-in-github",
        "colab_type": "text"
      },
      "source": [
        "<a href=\"https://colab.research.google.com/github/Chaakash16/Python-Basics/blob/main/Data_Types_and_Structures.ipynb\" target=\"_parent\"><img src=\"https://colab.research.google.com/assets/colab-badge.svg\" alt=\"Open In Colab\"/></a>"
      ]
    },
    {
      "cell_type": "markdown",
      "source": [
        "##**Theoritical Questions**"
      ],
      "metadata": {
        "id": "pfzAcayOmUR_"
      }
    },
    {
      "cell_type": "markdown",
      "source": [
        "Q1. What are data structures, and why are they important?"
      ],
      "metadata": {
        "id": "x8Fmct1AmMnt"
      }
    },
    {
      "cell_type": "markdown",
      "source": [
        "Ans. Data structures are ways of organizing and storing data efficiently, enabling fast access, modification, and processing for various applications."
      ],
      "metadata": {
        "id": "EK-q2JgsmMqF"
      }
    },
    {
      "cell_type": "markdown",
      "source": [
        "Q2. Explain the difference between mutable and immutable data types with examples."
      ],
      "metadata": {
        "id": "2w1pY3jGmMtP"
      }
    },
    {
      "cell_type": "markdown",
      "source": [
        "Ans. Mutable data types can be modified after creation (e.g., lists, dictionaries), while immutable types cannot be changed once created (e.g., strings, tuples)."
      ],
      "metadata": {
        "id": "weTcSkXzmMwC"
      }
    },
    {
      "cell_type": "markdown",
      "source": [
        "Q3. What are the main differences between lists and tuples in Python?"
      ],
      "metadata": {
        "id": "Wz2KouHSmMyf"
      }
    },
    {
      "cell_type": "markdown",
      "source": [
        "Ans. The main differences between lists and tuples in Python are that lists are mutable (can be modified), while tuples are immutable (cannot be modified)."
      ],
      "metadata": {
        "id": "NPsTvlU1mM1K"
      }
    },
    {
      "cell_type": "markdown",
      "source": [
        "Q4.  Describe how dictionaries store data."
      ],
      "metadata": {
        "id": "PXIUUyQDmM3o"
      }
    },
    {
      "cell_type": "markdown",
      "source": [
        "Ans. Dictionaries store data as key-value pairs, where each key is unique and maps to a corresponding value."
      ],
      "metadata": {
        "id": "kTcHbcs1mM6b"
      }
    },
    {
      "cell_type": "markdown",
      "source": [
        "Q5. Why might you use a set instead of a list in Python?"
      ],
      "metadata": {
        "id": "QcscQbfvmM8z"
      }
    },
    {
      "cell_type": "markdown",
      "source": [
        "Ans. You might use a set instead of a list in Python to store unique elements and take advantage of faster membership tests and set operations like union and intersection."
      ],
      "metadata": {
        "id": "EDTWAdxWmM_a"
      }
    },
    {
      "cell_type": "markdown",
      "source": [
        "Q6. What is a string in Python, and how is it different from a list?"
      ],
      "metadata": {
        "id": "ydbw02bBmNB_"
      }
    },
    {
      "cell_type": "markdown",
      "source": [
        "Ans. A string in Python is an immutable sequence of characters, whereas a list is a mutable collection of elements that can store different data types."
      ],
      "metadata": {
        "id": "NvLv5gD2mNEk"
      }
    },
    {
      "cell_type": "markdown",
      "source": [
        "Q7. How do tuples ensure data integrity in Python?"
      ],
      "metadata": {
        "id": "NJ80IzCnmNG7"
      }
    },
    {
      "cell_type": "markdown",
      "source": [
        "Ans. Tuples ensure data integrity in Python by being immutable, meaning once created, their contents cannot be changed, preventing accidental modifications."
      ],
      "metadata": {
        "id": "RcAh_5J3mNJj"
      }
    },
    {
      "cell_type": "markdown",
      "source": [
        "Q8. What is a hash table, and how does it relate to dictionaries in Python?"
      ],
      "metadata": {
        "id": "yQp-QGxLmNMR"
      }
    },
    {
      "cell_type": "markdown",
      "source": [
        "Ans. A hash table is a data structure that stores key-value pairs and uses a hash function to compute the index for storing the values, and in Python, dictionaries are implemented using hash tables to provide fast access to data."
      ],
      "metadata": {
        "id": "u2rdCPkCmNO2"
      }
    },
    {
      "cell_type": "markdown",
      "source": [
        "Q9. Can lists contain different data types in Python?"
      ],
      "metadata": {
        "id": "K77NvlsxmNRt"
      }
    },
    {
      "cell_type": "markdown",
      "source": [
        "Ans. Yes, lists in Python can contain different data types, allowing elements of various types (e.g., integers, strings, floats) to be stored together in a single list."
      ],
      "metadata": {
        "id": "_z6GvnTOmNUf"
      }
    },
    {
      "cell_type": "markdown",
      "source": [
        "Q10. Explain why strings are immutable in Python."
      ],
      "metadata": {
        "id": "dPRE5o-2mNXE"
      }
    },
    {
      "cell_type": "markdown",
      "source": [
        "Ans. Strings are immutable in Python to ensure data integrity, improve performance (by allowing string interning and caching), and make them safe to use as keys in dictionaries or elements in sets."
      ],
      "metadata": {
        "id": "uwsCTYqPmNZg"
      }
    },
    {
      "cell_type": "markdown",
      "source": [
        "Q11. What advantages do dictionaries offer over lists for certain tasks?"
      ],
      "metadata": {
        "id": "yV1NtE2WmNcI"
      }
    },
    {
      "cell_type": "markdown",
      "source": [
        "Ans. Dictionaries offer faster lookup times (O(1) average time complexity) for key-based access, while lists require linear time (O(n)) for searching, making dictionaries more efficient for tasks involving frequent lookups, updates, and associations of keys with values."
      ],
      "metadata": {
        "id": "3ZB35vWsmNfB"
      }
    },
    {
      "cell_type": "markdown",
      "source": [
        "Q12. Describe a scenario where using a tuple would be preferable over a list."
      ],
      "metadata": {
        "id": "A9068nf1mNhx"
      }
    },
    {
      "cell_type": "markdown",
      "source": [
        "Ans. A tuple would be preferable over a list when you need to store a collection of items that should remain constant, such as coordinates (e.g., (x, y, z)), ensuring data integrity and preventing accidental modifications."
      ],
      "metadata": {
        "id": "-L9nmso_mNkT"
      }
    },
    {
      "cell_type": "markdown",
      "source": [
        "Q13. How do sets handle duplicate values in Python?"
      ],
      "metadata": {
        "id": "ozHJcEKPmNm-"
      }
    },
    {
      "cell_type": "markdown",
      "source": [
        "Ans. Sets automatically eliminate duplicate values in Python, ensuring that each element in a set is unique. If you try to add a duplicate element, it will not be included.\n",
        "\n",
        "\n",
        "\n"
      ],
      "metadata": {
        "id": "C32j0HOcmNpz"
      }
    },
    {
      "cell_type": "markdown",
      "source": [
        "Q14. How does the “in” keyword work differently for lists and dictionaries?"
      ],
      "metadata": {
        "id": "-GPbOvBRmNsb"
      }
    },
    {
      "cell_type": "markdown",
      "source": [
        "Ans. In Python, the in keyword checks for membership differently:\n",
        "\n",
        "\n",
        "\n",
        "\n",
        "*   For lists, it checks if an element is present in the list.\n",
        "*   For dictionaries, it checks if a key is present in the dictionary.\n",
        "\n"
      ],
      "metadata": {
        "id": "n8Acp_0smNu-"
      }
    },
    {
      "cell_type": "markdown",
      "source": [
        "Q15. Can you modify the elements of a tuple? Explain why or why not."
      ],
      "metadata": {
        "id": "yIxbx4DQmNxY"
      }
    },
    {
      "cell_type": "markdown",
      "source": [
        "Ans. No, you cannot modify the elements of a tuple because tuples are immutable in Python, meaning their contents cannot be changed once they are created. This ensures data integrity and consistency."
      ],
      "metadata": {
        "id": "HmQUDANQq0KY"
      }
    },
    {
      "cell_type": "markdown",
      "source": [
        "Q16. What is a nested dictionary, and give an example of its use case?"
      ],
      "metadata": {
        "id": "ePocszTHq0Hq"
      }
    },
    {
      "cell_type": "markdown",
      "source": [
        "Ans. A nested dictionary is a dictionary where the values are other dictionaries, used to represent hierarchical data, like storing information about employees in different departments."
      ],
      "metadata": {
        "id": "1WpkThTHq0FA"
      }
    },
    {
      "cell_type": "code",
      "source": [
        "#Example:\n",
        "\n",
        "company = {\"HR\": {\"Aakash\": 30, \"Jay\": 25}, \"IT\": {\"Rohit\": 28, \"Rahul\": 35}}"
      ],
      "metadata": {
        "id": "UK4mfpt6rK99"
      },
      "execution_count": 2,
      "outputs": []
    },
    {
      "cell_type": "markdown",
      "source": [
        "Q17. Describe the time complexity of accessing elements in a dictionary."
      ],
      "metadata": {
        "id": "7qOvjiebq0CK"
      }
    },
    {
      "cell_type": "markdown",
      "source": [
        "Ans. The time complexity of accessing elements in a dictionary is O(1) on average, meaning it takes constant time to retrieve a value using its key, thanks to the underlying hash table implementation. However, in the worst case (e.g., hash collisions), it can degrade to O(n)."
      ],
      "metadata": {
        "id": "qnePDRUzqz92"
      }
    },
    {
      "cell_type": "markdown",
      "source": [
        "Q18.  In what situations are lists preferred over dictionaries?"
      ],
      "metadata": {
        "id": "sJmtO098qz6l"
      }
    },
    {
      "cell_type": "markdown",
      "source": [
        "Ans. Lists are preferred over dictionaries when you need an ordered collection of elements, require indexing by position, or when the elements are not associated with unique keys, such as when storing sequences or performing operations on ordered data."
      ],
      "metadata": {
        "id": "IZ_XWfgKqz4Q"
      }
    },
    {
      "cell_type": "markdown",
      "source": [
        "Q19. Why are dictionaries considered unordered, and how does that affect data retrieval?"
      ],
      "metadata": {
        "id": "yMZnxgMrqz1i"
      }
    },
    {
      "cell_type": "markdown",
      "source": [
        "Dictionaries are considered unordered because the items are stored based on a hash, not in any specific order. This means you can't rely on the order in which items were added, but you can still quickly access values using their unique keys.\n",
        "\n",
        "\n",
        "\n"
      ],
      "metadata": {
        "id": "YM8KiyCZqzyo"
      }
    },
    {
      "cell_type": "markdown",
      "source": [
        "Q20.  Explain the difference between a list and a dictionary in terms of data retrieval."
      ],
      "metadata": {
        "id": "qWhsObiyqzv2"
      }
    },
    {
      "cell_type": "markdown",
      "source": [
        "Ans. The main difference between a list and a dictionary in terms of data retrieval is that:\n",
        "\n",
        "*   In a list, data is accessed by its index (position), and you retrieve elements based on their order in the list.\n",
        "*   In a dictionary, data is accessed by its key, allowing you to retrieve values directly using unique identifiers, without relying on order.\n",
        "\n"
      ],
      "metadata": {
        "id": "QmMW8YmEqzsN"
      }
    },
    {
      "cell_type": "markdown",
      "source": [
        "##**Practical Questions**"
      ],
      "metadata": {
        "id": "9wN9m65Gqzko"
      }
    },
    {
      "cell_type": "markdown",
      "source": [
        "Q1. Write a code to create a string with your name and print it."
      ],
      "metadata": {
        "id": "1-v_CIlCxDUC"
      }
    },
    {
      "cell_type": "code",
      "source": [
        "name = \"Aakash\"\n",
        "print(name)"
      ],
      "metadata": {
        "colab": {
          "base_uri": "https://localhost:8080/"
        },
        "id": "We9QRYnasT4E",
        "outputId": "95faf050-cbdf-4d35-c6e4-608c5ee60ade"
      },
      "execution_count": 3,
      "outputs": [
        {
          "output_type": "stream",
          "name": "stdout",
          "text": [
            "Aakash\n"
          ]
        }
      ]
    },
    {
      "cell_type": "markdown",
      "source": [
        "Q2. Write a code to find the length of the string \"Hello World\"."
      ],
      "metadata": {
        "id": "dl-b46TgxO3w"
      }
    },
    {
      "cell_type": "code",
      "source": [
        "string = \"Hello World\"\n",
        "length = len(string)\n",
        "print(length)"
      ],
      "metadata": {
        "colab": {
          "base_uri": "https://localhost:8080/"
        },
        "id": "vz1R1hjzxNsP",
        "outputId": "3b34594d-c71e-4b29-9c80-0076822400ec"
      },
      "execution_count": 4,
      "outputs": [
        {
          "output_type": "stream",
          "name": "stdout",
          "text": [
            "11\n"
          ]
        }
      ]
    },
    {
      "cell_type": "markdown",
      "source": [
        "Q3. Write a code to slice the first 3 characters from the string \"Python Programming\"."
      ],
      "metadata": {
        "id": "NKIviVvlxZNz"
      }
    },
    {
      "cell_type": "code",
      "source": [
        "string = \"Python Programming\"\n",
        "sliced_string = string[:3]\n",
        "print(sliced_string)"
      ],
      "metadata": {
        "colab": {
          "base_uri": "https://localhost:8080/"
        },
        "id": "LQZ00yFExXVd",
        "outputId": "f9f5840c-1c99-47db-8de6-5937505c635d"
      },
      "execution_count": 5,
      "outputs": [
        {
          "output_type": "stream",
          "name": "stdout",
          "text": [
            "Pyt\n"
          ]
        }
      ]
    },
    {
      "cell_type": "markdown",
      "source": [
        "Q4. Write a code to convert the string \"hello\" to uppercase."
      ],
      "metadata": {
        "id": "CKVFIqZ7xmJK"
      }
    },
    {
      "cell_type": "code",
      "source": [
        "string = \"hello\"\n",
        "uppercase_string = string.upper()\n",
        "print(uppercase_string)"
      ],
      "metadata": {
        "colab": {
          "base_uri": "https://localhost:8080/"
        },
        "id": "s7Y7snisxkQ7",
        "outputId": "31e1fc37-aacd-4e6c-c445-cfdebcc9e0d8"
      },
      "execution_count": 6,
      "outputs": [
        {
          "output_type": "stream",
          "name": "stdout",
          "text": [
            "HELLO\n"
          ]
        }
      ]
    },
    {
      "cell_type": "markdown",
      "source": [
        "Q5. Write a code to replace the word \"apple\" with \"orange\" in the string \"I like apple\"."
      ],
      "metadata": {
        "id": "RNZ9JYZYyA-A"
      }
    },
    {
      "cell_type": "code",
      "source": [
        "string = \"I like apple\"\n",
        "modified_string = string.replace(\"apple\", \"orange\")\n",
        "print(modified_string)"
      ],
      "metadata": {
        "colab": {
          "base_uri": "https://localhost:8080/"
        },
        "id": "gNe_fVJLx_tJ",
        "outputId": "17f33f09-76c2-4198-abac-e758ddac588e"
      },
      "execution_count": 7,
      "outputs": [
        {
          "output_type": "stream",
          "name": "stdout",
          "text": [
            "I like orange\n"
          ]
        }
      ]
    },
    {
      "cell_type": "markdown",
      "source": [
        "Q6. Write a code to create a list with numbers 1 to 5 and print it."
      ],
      "metadata": {
        "id": "bRueFboSyNkI"
      }
    },
    {
      "cell_type": "code",
      "source": [
        "numbers = [1, 2, 3, 4, 5]\n",
        "print(numbers)"
      ],
      "metadata": {
        "colab": {
          "base_uri": "https://localhost:8080/"
        },
        "id": "EegIeGwsyO-2",
        "outputId": "43ff712f-e781-4b73-b721-dcb6120ecd05"
      },
      "execution_count": 8,
      "outputs": [
        {
          "output_type": "stream",
          "name": "stdout",
          "text": [
            "[1, 2, 3, 4, 5]\n"
          ]
        }
      ]
    },
    {
      "cell_type": "markdown",
      "source": [
        "Q7. Write a code to append the number 10 to the list [1, 2, 3, 4]."
      ],
      "metadata": {
        "id": "7hJ2GM8iybNp"
      }
    },
    {
      "cell_type": "code",
      "source": [
        "numbers = [1, 2, 3, 4]\n",
        "numbers.append(10)\n",
        "print(numbers)"
      ],
      "metadata": {
        "colab": {
          "base_uri": "https://localhost:8080/"
        },
        "id": "PGW6RJScyWne",
        "outputId": "e54bbd0b-4266-4ebb-87f0-a754d7d825d1"
      },
      "execution_count": 9,
      "outputs": [
        {
          "output_type": "stream",
          "name": "stdout",
          "text": [
            "[1, 2, 3, 4, 10]\n"
          ]
        }
      ]
    },
    {
      "cell_type": "markdown",
      "source": [
        "Q8. Write a code to remove the number 3 from the list [1, 2, 3, 4, 5]."
      ],
      "metadata": {
        "id": "Vs7EOhwfyjXJ"
      }
    },
    {
      "cell_type": "code",
      "source": [
        "numbers = [1, 2, 3, 4, 5]\n",
        "numbers.remove(3)\n",
        "print(numbers)"
      ],
      "metadata": {
        "colab": {
          "base_uri": "https://localhost:8080/"
        },
        "id": "oanm0Xd1yiO6",
        "outputId": "bda4ec2d-a703-4cf2-e76c-8cd04fb82b30"
      },
      "execution_count": 10,
      "outputs": [
        {
          "output_type": "stream",
          "name": "stdout",
          "text": [
            "[1, 2, 4, 5]\n"
          ]
        }
      ]
    },
    {
      "cell_type": "markdown",
      "source": [
        "Q9. Write a code to access the second element in the list ['a', 'b', 'c', 'd']."
      ],
      "metadata": {
        "id": "sFBy-ZR3ysIm"
      }
    },
    {
      "cell_type": "code",
      "source": [
        "letters = ['a', 'b', 'c', 'd']\n",
        "second_element = letters[1]\n",
        "print(second_element)"
      ],
      "metadata": {
        "colab": {
          "base_uri": "https://localhost:8080/"
        },
        "id": "SleP8aZxyrCl",
        "outputId": "55a6bb35-1aad-4e4a-8746-6248128b6972"
      },
      "execution_count": 11,
      "outputs": [
        {
          "output_type": "stream",
          "name": "stdout",
          "text": [
            "b\n"
          ]
        }
      ]
    },
    {
      "cell_type": "markdown",
      "source": [
        "Q10. Write a code to reverse the list [10, 20, 30, 40, 50]."
      ],
      "metadata": {
        "id": "BAauG3Y5y3nK"
      }
    },
    {
      "cell_type": "code",
      "source": [
        "numbers = [10, 20, 30, 40, 50]\n",
        "numbers.reverse()\n",
        "print(numbers)"
      ],
      "metadata": {
        "colab": {
          "base_uri": "https://localhost:8080/"
        },
        "id": "oCeJ2a2Yy6nL",
        "outputId": "bc68a13e-1845-439f-9439-1ac11edc1a00"
      },
      "execution_count": 12,
      "outputs": [
        {
          "output_type": "stream",
          "name": "stdout",
          "text": [
            "[50, 40, 30, 20, 10]\n"
          ]
        }
      ]
    },
    {
      "cell_type": "markdown",
      "source": [
        "Q11. Write a code to create a tuple with the elements 10, 20, 30 and print it."
      ],
      "metadata": {
        "id": "layntCpIzCWk"
      }
    },
    {
      "cell_type": "code",
      "source": [
        "my_tuple = (10, 20, 30)\n",
        "print(my_tuple)"
      ],
      "metadata": {
        "colab": {
          "base_uri": "https://localhost:8080/"
        },
        "id": "VY57g2NfzBTK",
        "outputId": "ab781124-f42d-4b8d-af3d-bbbd6a8496bd"
      },
      "execution_count": 13,
      "outputs": [
        {
          "output_type": "stream",
          "name": "stdout",
          "text": [
            "(10, 20, 30)\n"
          ]
        }
      ]
    },
    {
      "cell_type": "markdown",
      "source": [
        "Q12. Write a code to access the first element of the tuple ('apple', 'banana', 'cherry')."
      ],
      "metadata": {
        "id": "4R2QdXzTzOmq"
      }
    },
    {
      "cell_type": "code",
      "source": [
        "my_tuple = ('apple', 'banana', 'cherry')\n",
        "first_element = my_tuple[0]\n",
        "print(first_element)"
      ],
      "metadata": {
        "colab": {
          "base_uri": "https://localhost:8080/"
        },
        "id": "74U3PlySzMwK",
        "outputId": "653dcae1-a8ca-44ff-f1e4-3239e0793e2e"
      },
      "execution_count": 14,
      "outputs": [
        {
          "output_type": "stream",
          "name": "stdout",
          "text": [
            "apple\n"
          ]
        }
      ]
    },
    {
      "cell_type": "markdown",
      "source": [
        "Q13. Write a code to count how many times the number 2 appears in the tuple (1, 2, 3, 2, 4, 2)."
      ],
      "metadata": {
        "id": "Jo7Gc-wfzVp4"
      }
    },
    {
      "cell_type": "code",
      "source": [
        "my_tuple = (1, 2, 3, 2, 4, 2)\n",
        "count_of_2 = my_tuple.count(2)\n",
        "print(count_of_2)"
      ],
      "metadata": {
        "colab": {
          "base_uri": "https://localhost:8080/"
        },
        "id": "Q64xjVPizUWi",
        "outputId": "26645a93-5dfb-4332-8c00-6eba3d324ade"
      },
      "execution_count": 15,
      "outputs": [
        {
          "output_type": "stream",
          "name": "stdout",
          "text": [
            "3\n"
          ]
        }
      ]
    },
    {
      "cell_type": "markdown",
      "source": [
        "Q14. Write a code to find the index of the element \"cat\" in the tuple ('dog', 'cat', 'rabbit')."
      ],
      "metadata": {
        "id": "laIoc4Ydzc2v"
      }
    },
    {
      "cell_type": "code",
      "source": [
        "my_tuple = ('dog', 'cat', 'rabbit')\n",
        "index_of_cat = my_tuple.index('cat')\n",
        "print(index_of_cat)"
      ],
      "metadata": {
        "colab": {
          "base_uri": "https://localhost:8080/"
        },
        "id": "EcQgPRVHzb14",
        "outputId": "c40dc53f-f564-4791-b091-611eed32608b"
      },
      "execution_count": 16,
      "outputs": [
        {
          "output_type": "stream",
          "name": "stdout",
          "text": [
            "1\n"
          ]
        }
      ]
    },
    {
      "cell_type": "markdown",
      "source": [
        "Q15. Write a code to check if the element \"banana\" is in the tuple ('apple', 'orange', 'banana')."
      ],
      "metadata": {
        "id": "l4JmduYMzkak"
      }
    },
    {
      "cell_type": "code",
      "source": [
        "my_tuple = ('apple', 'orange', 'banana')\n",
        "if 'banana' in my_tuple:\n",
        "    print(\"Yes, 'banana' is in the tuple.\")\n",
        "else:\n",
        "    print(\"No, 'banana' is not in the tuple.\")"
      ],
      "metadata": {
        "colab": {
          "base_uri": "https://localhost:8080/"
        },
        "id": "udlT5mF8zio0",
        "outputId": "3c240049-208d-4445-ee6a-fa6cae63ade1"
      },
      "execution_count": 17,
      "outputs": [
        {
          "output_type": "stream",
          "name": "stdout",
          "text": [
            "Yes, 'banana' is in the tuple.\n"
          ]
        }
      ]
    },
    {
      "cell_type": "markdown",
      "source": [
        "Q16. Write a code to create a set with the elements 1, 2, 3, 4, 5 and print it."
      ],
      "metadata": {
        "id": "0K8G2Zc2zrPi"
      }
    },
    {
      "cell_type": "code",
      "source": [
        "my_set = {1, 2, 3, 4, 5}\n",
        "print(my_set)"
      ],
      "metadata": {
        "colab": {
          "base_uri": "https://localhost:8080/"
        },
        "id": "ES7Q1Ph3zqD5",
        "outputId": "70d1592b-1479-43c2-f30d-fd689ef4dcb8"
      },
      "execution_count": 18,
      "outputs": [
        {
          "output_type": "stream",
          "name": "stdout",
          "text": [
            "{1, 2, 3, 4, 5}\n"
          ]
        }
      ]
    },
    {
      "cell_type": "markdown",
      "source": [
        "Q17. Write a code to add the element 6 to the set {1, 2, 3, 4}."
      ],
      "metadata": {
        "id": "K-KSr94hzxWm"
      }
    },
    {
      "cell_type": "code",
      "source": [
        "my_set = {1, 2, 3, 4}\n",
        "my_set.add(6)\n",
        "print(my_set)"
      ],
      "metadata": {
        "colab": {
          "base_uri": "https://localhost:8080/"
        },
        "id": "GQekwdeuzwL0",
        "outputId": "c16ec172-a578-4e5e-a9c5-a92dfd726266"
      },
      "execution_count": 19,
      "outputs": [
        {
          "output_type": "stream",
          "name": "stdout",
          "text": [
            "{1, 2, 3, 4, 6}\n"
          ]
        }
      ]
    },
    {
      "cell_type": "markdown",
      "source": [
        "Q18. Write a code to create a tuple with the elements 10, 20, 30 and print it."
      ],
      "metadata": {
        "id": "KoUADRorz7lf"
      }
    },
    {
      "cell_type": "code",
      "source": [
        "my_tuple = (10, 20, 30)\n",
        "print(my_tuple)"
      ],
      "metadata": {
        "colab": {
          "base_uri": "https://localhost:8080/"
        },
        "id": "K2XIbAdhz6pe",
        "outputId": "b1926f98-9518-47ac-f154-132d49f19d17"
      },
      "execution_count": 20,
      "outputs": [
        {
          "output_type": "stream",
          "name": "stdout",
          "text": [
            "(10, 20, 30)\n"
          ]
        }
      ]
    },
    {
      "cell_type": "markdown",
      "source": [
        "Q19. Write a code to access the first element of the tuple ('apple', 'banana', 'cherry')."
      ],
      "metadata": {
        "id": "GrEW_aEs0OO_"
      }
    },
    {
      "cell_type": "code",
      "source": [
        "my_tuple = ('apple', 'banana', 'cherry')\n",
        "first_element = my_tuple[0]\n",
        "print(first_element)"
      ],
      "metadata": {
        "colab": {
          "base_uri": "https://localhost:8080/"
        },
        "id": "GgY9WFGP0Myr",
        "outputId": "f8f9f680-4f0e-4202-9142-412c800db25c"
      },
      "execution_count": 21,
      "outputs": [
        {
          "output_type": "stream",
          "name": "stdout",
          "text": [
            "apple\n"
          ]
        }
      ]
    },
    {
      "cell_type": "markdown",
      "source": [
        "Q20. Write a code to count how many times the number 2 appears in the tuple (1, 2, 3, 2, 4, 2)."
      ],
      "metadata": {
        "id": "5dr3xhf70YuI"
      }
    },
    {
      "cell_type": "code",
      "source": [
        "my_tuple = (1, 2, 3, 2, 4, 2)\n",
        "count_of_2 = my_tuple.count(2)\n",
        "print(count_of_2)"
      ],
      "metadata": {
        "colab": {
          "base_uri": "https://localhost:8080/"
        },
        "id": "JgPELyS10XO-",
        "outputId": "329eb633-2e0e-4758-caf4-09f58e794348"
      },
      "execution_count": 22,
      "outputs": [
        {
          "output_type": "stream",
          "name": "stdout",
          "text": [
            "3\n"
          ]
        }
      ]
    },
    {
      "cell_type": "markdown",
      "source": [
        "Q21. Write a code to find the index of the element \"cat\" in the tuple ('dog', 'cat', 'rabbit')."
      ],
      "metadata": {
        "id": "zP9SeIGK0kL0"
      }
    },
    {
      "cell_type": "code",
      "source": [
        "my_tuple = ('dog', 'cat', 'rabbit')\n",
        "index_of_cat = my_tuple.index('cat')\n",
        "print(index_of_cat)"
      ],
      "metadata": {
        "colab": {
          "base_uri": "https://localhost:8080/"
        },
        "id": "IObDEKyf0jPu",
        "outputId": "0deb6be3-c769-48e5-9457-067d0ba25935"
      },
      "execution_count": 23,
      "outputs": [
        {
          "output_type": "stream",
          "name": "stdout",
          "text": [
            "1\n"
          ]
        }
      ]
    },
    {
      "cell_type": "markdown",
      "source": [
        "Q22. Write a code to check if the element \"banana\" is in the tuple ('apple', 'orange', 'banana')."
      ],
      "metadata": {
        "id": "P0aT9FRH0q9W"
      }
    },
    {
      "cell_type": "code",
      "source": [
        "my_tuple = ('apple', 'orange', 'banana')\n",
        "if 'banana' in my_tuple:\n",
        "    print(\"Yes, 'banana' is in the tuple.\")\n",
        "else:\n",
        "    print(\"No, 'banana' is not in the tuple.\")"
      ],
      "metadata": {
        "colab": {
          "base_uri": "https://localhost:8080/"
        },
        "id": "vi902fZo0p0e",
        "outputId": "025978f2-7153-40b8-c3d1-fa6129b344ee"
      },
      "execution_count": 24,
      "outputs": [
        {
          "output_type": "stream",
          "name": "stdout",
          "text": [
            "Yes, 'banana' is in the tuple.\n"
          ]
        }
      ]
    },
    {
      "cell_type": "markdown",
      "source": [
        "Q23. Write a code to create a set with the elements 1, 2, 3, 4, 5 and print it."
      ],
      "metadata": {
        "id": "35Gh01rW02Lr"
      }
    },
    {
      "cell_type": "code",
      "source": [
        "my_set = {1, 2, 3, 4, 5}\n",
        "print(my_set)"
      ],
      "metadata": {
        "colab": {
          "base_uri": "https://localhost:8080/"
        },
        "id": "9UxLjKhR0yDI",
        "outputId": "44633b86-c275-4fd6-faee-45e8ffe73f2f"
      },
      "execution_count": 25,
      "outputs": [
        {
          "output_type": "stream",
          "name": "stdout",
          "text": [
            "{1, 2, 3, 4, 5}\n"
          ]
        }
      ]
    },
    {
      "cell_type": "markdown",
      "source": [
        "Q24. Write a code to add the element 6 to the set {1, 2, 3, 4}."
      ],
      "metadata": {
        "id": "JQzoIedv1M0z"
      }
    },
    {
      "cell_type": "code",
      "source": [
        "my_set = {1, 2, 3, 4}\n",
        "my_set.add(6)\n",
        "print(my_set)"
      ],
      "metadata": {
        "colab": {
          "base_uri": "https://localhost:8080/"
        },
        "id": "Onebih2408KD",
        "outputId": "204d762b-0920-4e01-aa50-bffd4e97a510"
      },
      "execution_count": 26,
      "outputs": [
        {
          "output_type": "stream",
          "name": "stdout",
          "text": [
            "{1, 2, 3, 4, 6}\n"
          ]
        }
      ]
    }
  ]
}