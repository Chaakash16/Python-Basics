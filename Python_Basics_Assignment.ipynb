{
  "nbformat": 4,
  "nbformat_minor": 0,
  "metadata": {
    "colab": {
      "provenance": [],
      "authorship_tag": "ABX9TyM2ddQBdzE6ek4MkhSVUOs3",
      "include_colab_link": true
    },
    "kernelspec": {
      "name": "python3",
      "display_name": "Python 3"
    },
    "language_info": {
      "name": "python"
    }
  },
  "cells": [
    {
      "cell_type": "markdown",
      "metadata": {
        "id": "view-in-github",
        "colab_type": "text"
      },
      "source": [
        "<a href=\"https://colab.research.google.com/github/Chaakash16/Python-Basics/blob/main/Python_Basics_Assignment.ipynb\" target=\"_parent\"><img src=\"https://colab.research.google.com/assets/colab-badge.svg\" alt=\"Open In Colab\"/></a>"
      ]
    },
    {
      "cell_type": "markdown",
      "source": [
        "#**Python Theoretical Assignment**"
      ],
      "metadata": {
        "id": "l3DvSjJcCn2p"
      }
    },
    {
      "cell_type": "markdown",
      "source": [
        "Q1. What is Python, and why is it popular?"
      ],
      "metadata": {
        "id": "7aQrac-CDlH3"
      }
    },
    {
      "cell_type": "markdown",
      "source": [
        "Ans. Python is a simple, versatile programming language that's\n",
        "popular for its ease of use, wide applications, and large supportive community."
      ],
      "metadata": {
        "id": "tLQ3-N9VD1DG"
      }
    },
    {
      "cell_type": "markdown",
      "source": [
        "Q2. What is an interpreter in Python?"
      ],
      "metadata": {
        "id": "pEK_yLPDD1OR"
      }
    },
    {
      "cell_type": "markdown",
      "source": [
        "Ans. An interpreter in Python is a program that reads and executes Python code line by line, converting it into machine code for the computer to run."
      ],
      "metadata": {
        "id": "yIJnBcVsD1Q9"
      }
    },
    {
      "cell_type": "markdown",
      "source": [
        "Q3. What are pre-defined keywords in Python?"
      ],
      "metadata": {
        "id": "O2Syo8-7D1Tf"
      }
    },
    {
      "cell_type": "markdown",
      "source": [
        "Ans. Pre-defined keywords in Python are reserved words that have special meaning and cannot be used as identifiers. For example if, else, while, and, etc."
      ],
      "metadata": {
        "id": "bNo--NDQD1Wc"
      }
    },
    {
      "cell_type": "markdown",
      "source": [
        "Q4. Can keywords be used as variable names?\n"
      ],
      "metadata": {
        "id": "in7LUHhkD1Y9"
      }
    },
    {
      "cell_type": "markdown",
      "source": [
        "Ans. No, keywords cannot be used as variable names in Python because they have predefined meanings in the Python."
      ],
      "metadata": {
        "id": "L8qN3DCsD1yr"
      }
    },
    {
      "cell_type": "markdown",
      "source": [
        "Q5. What is mutability in Python?"
      ],
      "metadata": {
        "id": "-2cOUZYzJY8n"
      }
    },
    {
      "cell_type": "markdown",
      "source": [
        "Ans. Mutability in Python refers to the ability of an object to be changed after it is created like lists, while immutable objects cannot be changed like tuples."
      ],
      "metadata": {
        "id": "Ys6QYsBVJZRU"
      }
    },
    {
      "cell_type": "markdown",
      "source": [
        "Q6. Why are lists mutable, but tuples are immutable?"
      ],
      "metadata": {
        "id": "P2EYxCynJZU9"
      }
    },
    {
      "cell_type": "markdown",
      "source": [
        "Ans. Lists are mutable because they are designed to allow changes (like adding or removing elements), while tuples are immutable to ensure their data remains constant and cannot be modified after creation."
      ],
      "metadata": {
        "id": "oJXkH70jJZYB"
      }
    },
    {
      "cell_type": "markdown",
      "source": [
        "Q7. What is the difference between “==” and “is” operators in Python?"
      ],
      "metadata": {
        "id": "lGChUqtTJZa5"
      }
    },
    {
      "cell_type": "markdown",
      "source": [
        "Ans. In Python \"==\" checks if two objects have the same value, while \"is\" checks if they are the same object in memory.\n",
        "\n"
      ],
      "metadata": {
        "id": "HN-LGxvqJZdo"
      }
    },
    {
      "cell_type": "markdown",
      "source": [
        "Q8. What are logical operators in Python?"
      ],
      "metadata": {
        "id": "jFUnsvptJZgv"
      }
    },
    {
      "cell_type": "markdown",
      "source": [
        "Ans. Logical operators in Python are used to combine conditional statements i.e, \"and\", \"or\", \"not\", and return a Boolean result i.e, \"true\", \"false\"."
      ],
      "metadata": {
        "id": "rp6bFl7DJZjG"
      }
    },
    {
      "cell_type": "markdown",
      "source": [
        "Q9. What is type casting in Python?"
      ],
      "metadata": {
        "id": "s5w-8HqWJZl4"
      }
    },
    {
      "cell_type": "markdown",
      "source": [
        "Ans.\n",
        "Type casting in Python is the process of converting one data type into another, such as converting an integer to a string or a float to an integer."
      ],
      "metadata": {
        "id": "6cSr0CTQMaU5"
      }
    },
    {
      "cell_type": "markdown",
      "source": [
        "Q10. What is the difference between implicit and explicit type casting?"
      ],
      "metadata": {
        "id": "77_cbpVhMaX3"
      }
    },
    {
      "cell_type": "markdown",
      "source": [
        "Ans. Implicit type casting is done automatically by Python, while explicit type casting requires you to manually convert one data type to another."
      ],
      "metadata": {
        "id": "wZhCMwQxMaa0"
      }
    },
    {
      "cell_type": "markdown",
      "source": [
        "Q11. What is the purpose of conditional statements in Python?"
      ],
      "metadata": {
        "id": "ORe3PGpJMadm"
      }
    },
    {
      "cell_type": "markdown",
      "source": [
        "Ans.\n",
        "Conditional statements in Python allow you to run different code depending on whether a condition is true or false."
      ],
      "metadata": {
        "id": "o6qCWqVPMagc"
      }
    },
    {
      "cell_type": "markdown",
      "source": [
        "Q12. How does the elif statement work?"
      ],
      "metadata": {
        "id": "Y0DiKVxGMaju"
      }
    },
    {
      "cell_type": "markdown",
      "source": [
        "Ans. The elif statement in Python allows you to check multiple conditions, executing the block of code for the first true condition and skipping the others."
      ],
      "metadata": {
        "id": "uH-73Qm6ManO"
      }
    },
    {
      "cell_type": "markdown",
      "source": [
        "Q13. What is the difference between for and while loops?"
      ],
      "metadata": {
        "id": "E-U3W8NgMa1s"
      }
    },
    {
      "cell_type": "markdown",
      "source": [
        "Ans. A \"for\" loop repeats a block of code for a specified number of times or over a sequence, while a \"while\" loop repeats as long as a condition is true."
      ],
      "metadata": {
        "id": "n1aiyXMUOEY5"
      }
    },
    {
      "cell_type": "markdown",
      "source": [
        "Q14. Describe a scenario where a while loop is more suitable than a for loop."
      ],
      "metadata": {
        "id": "nzWLH_KUOEby"
      }
    },
    {
      "cell_type": "markdown",
      "source": [
        "Ans. A \"while\" loop is more suitable when you need to repeat a task until a specific condition is met, like waiting for a user to enter valid input."
      ],
      "metadata": {
        "id": "NrieraZOOEfF"
      }
    },
    {
      "cell_type": "markdown",
      "source": [
        "#**Python Practical Assignment**"
      ],
      "metadata": {
        "id": "k4lPOJYYTKcr"
      }
    },
    {
      "cell_type": "markdown",
      "source": [
        "Q1. Write a Python program to print \"Hello, World!\""
      ],
      "metadata": {
        "id": "UmDaYzpRTmfu"
      }
    },
    {
      "cell_type": "code",
      "source": [
        "print(\"Hello, World!\")"
      ],
      "metadata": {
        "colab": {
          "base_uri": "https://localhost:8080/"
        },
        "id": "CVGmxuFFTN-r",
        "outputId": "1a43f369-317e-4d5c-9146-fbfe869bcd0d"
      },
      "execution_count": 1,
      "outputs": [
        {
          "output_type": "stream",
          "name": "stdout",
          "text": [
            "Hello, World!\n"
          ]
        }
      ]
    },
    {
      "cell_type": "markdown",
      "source": [
        "Q2. Write a Python program that displays your name and age."
      ],
      "metadata": {
        "id": "ltbbPUUfT667"
      }
    },
    {
      "cell_type": "code",
      "source": [
        "name = \"Aakash\"\n",
        "age = 22\n",
        "print(\"My name is\", name)\n",
        "print(\"My age is\", age)"
      ],
      "metadata": {
        "colab": {
          "base_uri": "https://localhost:8080/"
        },
        "id": "qXAK2qFnT2UM",
        "outputId": "1f03da57-3dc2-47cc-9e63-4fa1d5a4422d"
      },
      "execution_count": 6,
      "outputs": [
        {
          "output_type": "stream",
          "name": "stdout",
          "text": [
            "My name is Aakash\n",
            "My age is 22\n"
          ]
        }
      ]
    },
    {
      "cell_type": "markdown",
      "source": [
        "Q3. Write code to print all the pre-defined keywords in Python using the keyword library."
      ],
      "metadata": {
        "id": "OEzFjzObU4jq"
      }
    },
    {
      "cell_type": "code",
      "source": [
        "help(\"keywords\")"
      ],
      "metadata": {
        "colab": {
          "base_uri": "https://localhost:8080/"
        },
        "id": "iQ3CyrFIUiUm",
        "outputId": "512d812a-c876-4a76-b7d3-56f4538af490"
      },
      "execution_count": 8,
      "outputs": [
        {
          "output_type": "stream",
          "name": "stdout",
          "text": [
            "\n",
            "Here is a list of the Python keywords.  Enter any keyword to get more help.\n",
            "\n",
            "False               class               from                or\n",
            "None                continue            global              pass\n",
            "True                def                 if                  raise\n",
            "and                 del                 import              return\n",
            "as                  elif                in                  try\n",
            "assert              else                is                  while\n",
            "async               except              lambda              with\n",
            "await               finally             nonlocal            yield\n",
            "break               for                 not                 \n",
            "\n"
          ]
        }
      ]
    },
    {
      "cell_type": "markdown",
      "source": [
        "Q4. Write a program that checks if a given word is a Python keyword."
      ],
      "metadata": {
        "id": "V-przapGVRve"
      }
    },
    {
      "cell_type": "code",
      "source": [
        "import keyword\n",
        "word = input(\"Enter any word: \")\n",
        "\n",
        "if keyword.iskeyword(word):\n",
        "    print(f\"'{word}' is a Python keyword.\")\n",
        "else:\n",
        "    print(f\"'{word}' is not a Python keyword.\")\n"
      ],
      "metadata": {
        "colab": {
          "base_uri": "https://localhost:8080/"
        },
        "id": "irnUbGEVVHmc",
        "outputId": "e88ebcfe-866e-4c11-fb78-4c696bc0d8ab"
      },
      "execution_count": 11,
      "outputs": [
        {
          "output_type": "stream",
          "name": "stdout",
          "text": [
            "Enter any word: for\n",
            "'for' is a Python keyword.\n"
          ]
        }
      ]
    },
    {
      "cell_type": "markdown",
      "source": [
        "Q5. Create a list and tuple in Python, and demonstrate how attempting to change an element works differently\n",
        "for each."
      ],
      "metadata": {
        "id": "9p0TTvuOXATL"
      }
    },
    {
      "cell_type": "code",
      "source": [
        "_list = [1, 2, 3, 4]\n",
        "\n",
        "_list[1] = 10\n",
        "print(\"Updated list:\", _list)"
      ],
      "metadata": {
        "colab": {
          "base_uri": "https://localhost:8080/"
        },
        "id": "cZNqYB_yXFXf",
        "outputId": "393d6766-e65f-40b9-b791-15c9a40c52d3"
      },
      "execution_count": 16,
      "outputs": [
        {
          "output_type": "stream",
          "name": "stdout",
          "text": [
            "Updated list: [1, 10, 3, 4]\n"
          ]
        }
      ]
    },
    {
      "cell_type": "code",
      "source": [
        "_tuple = (1, 2, 3, 4)\n",
        "\n",
        "_tuple[1] = 10\n",
        "print(\"Updated tuple:\", _tuple)"
      ],
      "metadata": {
        "colab": {
          "base_uri": "https://localhost:8080/",
          "height": 199
        },
        "id": "x2c4KSf7XlQG",
        "outputId": "c4de21e4-b6a6-4125-fe58-5b567b9158f5"
      },
      "execution_count": 15,
      "outputs": [
        {
          "output_type": "error",
          "ename": "TypeError",
          "evalue": "'tuple' object does not support item assignment",
          "traceback": [
            "\u001b[0;31m---------------------------------------------------------------------------\u001b[0m",
            "\u001b[0;31mTypeError\u001b[0m                                 Traceback (most recent call last)",
            "\u001b[0;32m<ipython-input-15-fb29f216f694>\u001b[0m in \u001b[0;36m<cell line: 3>\u001b[0;34m()\u001b[0m\n\u001b[1;32m      1\u001b[0m \u001b[0m_tuple\u001b[0m \u001b[0;34m=\u001b[0m \u001b[0;34m(\u001b[0m\u001b[0;36m1\u001b[0m\u001b[0;34m,\u001b[0m \u001b[0;36m2\u001b[0m\u001b[0;34m,\u001b[0m \u001b[0;36m3\u001b[0m\u001b[0;34m,\u001b[0m \u001b[0;36m4\u001b[0m\u001b[0;34m)\u001b[0m\u001b[0;34m\u001b[0m\u001b[0;34m\u001b[0m\u001b[0m\n\u001b[1;32m      2\u001b[0m \u001b[0;34m\u001b[0m\u001b[0m\n\u001b[0;32m----> 3\u001b[0;31m \u001b[0m_tuple\u001b[0m\u001b[0;34m[\u001b[0m\u001b[0;36m1\u001b[0m\u001b[0;34m]\u001b[0m \u001b[0;34m=\u001b[0m \u001b[0;36m10\u001b[0m\u001b[0;34m\u001b[0m\u001b[0;34m\u001b[0m\u001b[0m\n\u001b[0m\u001b[1;32m      4\u001b[0m \u001b[0mprint\u001b[0m\u001b[0;34m(\u001b[0m\u001b[0;34m\"Updated tuple:\"\u001b[0m\u001b[0;34m,\u001b[0m \u001b[0m_tuple\u001b[0m\u001b[0;34m)\u001b[0m\u001b[0;34m\u001b[0m\u001b[0;34m\u001b[0m\u001b[0m\n",
            "\u001b[0;31mTypeError\u001b[0m: 'tuple' object does not support item assignment"
          ]
        }
      ]
    },
    {
      "cell_type": "markdown",
      "source": [
        "Q6. Write a function to demonstrate the behavior of mutable and immutable arguments."
      ],
      "metadata": {
        "id": "2V01cf7GZ_wP"
      }
    },
    {
      "cell_type": "code",
      "source": [
        "#list are mutable\n",
        "_list = [1, 2, 3, 4, \"aakash\", \"ashok\"]\n",
        "\n",
        "_list[4] = 5\n",
        "print(\"Mutable:\", _list)"
      ],
      "metadata": {
        "colab": {
          "base_uri": "https://localhost:8080/"
        },
        "id": "6T6hKEvpYfuS",
        "outputId": "3308b1b6-dcfc-4969-c262-99d5c82627bd"
      },
      "execution_count": 17,
      "outputs": [
        {
          "output_type": "stream",
          "name": "stdout",
          "text": [
            "Mutable: [1, 2, 3, 4, 5, 'ashok']\n"
          ]
        }
      ]
    },
    {
      "cell_type": "code",
      "source": [
        "#tuple are immutable\n",
        "_tuple = (1, 2, 3, 4, \"aakash\", \"ashok\")\n",
        "\n",
        "_tuple[5] = 6\n",
        "print(\"Immutable:\", _tuple)"
      ],
      "metadata": {
        "id": "PTR5iTI-av7G"
      },
      "execution_count": null,
      "outputs": []
    },
    {
      "cell_type": "markdown",
      "source": [
        "Q7.Write a function to demonstrate the behavior of mutable and immutable arguments."
      ],
      "metadata": {
        "id": "I45QX6zgcxiv"
      }
    },
    {
      "cell_type": "markdown",
      "source": [
        "Ans. Same as Q6"
      ],
      "metadata": {
        "id": "H4iEV23Fc7Jv"
      }
    },
    {
      "cell_type": "markdown",
      "source": [
        "Q8. Write a program to demonstrate the use of logical operators."
      ],
      "metadata": {
        "id": "j0iX0XXTdCOM"
      }
    },
    {
      "cell_type": "code",
      "source": [
        "x = 10\n",
        "if x > 5 and x < 15:\n",
        "    print(\"x is between 5 and 15.\")\n",
        "else:\n",
        "    print(\"x is not between 5 and 15.\")\n",
        "\n",
        "# Combining 'and' and 'or' operators\n",
        "y = 20\n",
        "if (x > 5 and x < 15) or y == 20:\n",
        "    print(\"x is between 5 and 15, or y is 20.\")\n",
        "else:\n",
        "    print(\"Neither condition is true.\")"
      ],
      "metadata": {
        "colab": {
          "base_uri": "https://localhost:8080/"
        },
        "id": "sPUbdXMpc6IU",
        "outputId": "69f61594-7f9d-48bb-a415-447e305cd3d7"
      },
      "execution_count": 20,
      "outputs": [
        {
          "output_type": "stream",
          "name": "stdout",
          "text": [
            "x is between 5 and 15.\n",
            "x is between 5 and 15, or y is 20.\n"
          ]
        }
      ]
    },
    {
      "cell_type": "markdown",
      "source": [
        "Q9. Write a Python program to convert user input from string to integer, float, and boolean types.\n"
      ],
      "metadata": {
        "id": "vnZFVaaA7Xd3"
      }
    },
    {
      "cell_type": "code",
      "source": [
        "user_input = input(\"Input anything: \")\n",
        "\n",
        "# Convert to integer\n",
        "if user_input.isdigit():\n",
        "    int_value = int(user_input)\n",
        "    print(\"Converted to integer:\", int_value)\n",
        "else:\n",
        "    print(\"Could not convert to integer.\")\n",
        "\n",
        "# Convert to float\n",
        "if user_input.replace('.', '', 1).isdigit() and user_input.count('.') < 2:\n",
        "    float_value = float(user_input)\n",
        "    print(\"Converted to float:\", float_value)\n",
        "else:\n",
        "    print(\"Could not convert to float.\")\n",
        "\n",
        "# Convert to boolean\n",
        "bool_value = bool(user_input)\n",
        "print(\"Converted to boolean:\", bool_value)\n"
      ],
      "metadata": {
        "colab": {
          "base_uri": "https://localhost:8080/"
        },
        "id": "Mm64IDvdibf7",
        "outputId": "bb9ee30c-4cce-47e9-daf3-7429571502bb"
      },
      "execution_count": 3,
      "outputs": [
        {
          "output_type": "stream",
          "name": "stdout",
          "text": [
            "Input anything: 123\n",
            "Converted to integer: 123\n",
            "Converted to float: 123.0\n",
            "Converted to boolean: True\n"
          ]
        }
      ]
    },
    {
      "cell_type": "markdown",
      "source": [
        "Q10. Write code to demonstrate type casting with list elements."
      ],
      "metadata": {
        "id": "C_sMrxK9AmyX"
      }
    },
    {
      "cell_type": "code",
      "source": [
        "# Original list with string elements\n",
        "_list = [\"10\", \"20.5\", \"True\", \"0\"]\n",
        "\n",
        "# Convert to integers\n",
        "int_list = [int(\"10\"), int(\"20\"), int(\"0\")]\n",
        "print(\"integers value:\", int_list)\n",
        "\n",
        "# Convert to floats\n",
        "float_list = [float(\"10.5\"), float(\"20.5\"), float(\"0.0\")]\n",
        "print(\"floats value:\", float_list)\n",
        "\n",
        "# Convert to booleans\n",
        "boolean_list = [bool(\"True\"), bool(\"False\"), bool(\"0\")]\n",
        "print(\"Converted to booleans:\", boolean_list)\n"
      ],
      "metadata": {
        "colab": {
          "base_uri": "https://localhost:8080/"
        },
        "id": "FaDECq4_72YC",
        "outputId": "ef7d0734-0f1d-4d71-848b-e177641107c1"
      },
      "execution_count": 7,
      "outputs": [
        {
          "output_type": "stream",
          "name": "stdout",
          "text": [
            "integers value: [10, 20, 0]\n",
            "floats value: [10.5, 20.5, 0.0]\n",
            "Converted to booleans: [True, True, True]\n"
          ]
        }
      ]
    },
    {
      "cell_type": "markdown",
      "source": [
        "Q11. Write a program that checks if a number is positive, negative, or zero."
      ],
      "metadata": {
        "id": "j516AdXFDKnH"
      }
    },
    {
      "cell_type": "code",
      "source": [
        "num = int(input(\"Enter a number: \"))\n",
        "\n",
        "if num > 0:\n",
        "    print(\"The number is positive.\")\n",
        "elif num < 0:\n",
        "    print(\"The number is negative.\")\n",
        "else:\n",
        "    print(\"The number is zero.\")\n"
      ],
      "metadata": {
        "colab": {
          "base_uri": "https://localhost:8080/"
        },
        "id": "VtbLIFS0DO2S",
        "outputId": "c3f68559-fbf0-4709-dfbd-e5d194c05b0c"
      },
      "execution_count": 8,
      "outputs": [
        {
          "output_type": "stream",
          "name": "stdout",
          "text": [
            "Enter a number: 3\n",
            "The number is positive.\n"
          ]
        }
      ]
    },
    {
      "cell_type": "markdown",
      "source": [
        "Q12. Write a for loop to print numbers from 1 to 10."
      ],
      "metadata": {
        "id": "5tA15N7kGgwN"
      }
    },
    {
      "cell_type": "code",
      "source": [
        "for num in range(1, 11):\n",
        "    print(num)\n"
      ],
      "metadata": {
        "colab": {
          "base_uri": "https://localhost:8080/"
        },
        "id": "nw2LsXvoGlxa",
        "outputId": "7240a883-7b11-472d-b4b2-3a79e838a95b"
      },
      "execution_count": 9,
      "outputs": [
        {
          "output_type": "stream",
          "name": "stdout",
          "text": [
            "1\n",
            "2\n",
            "3\n",
            "4\n",
            "5\n",
            "6\n",
            "7\n",
            "8\n",
            "9\n",
            "10\n"
          ]
        }
      ]
    },
    {
      "cell_type": "markdown",
      "source": [
        "Q13. Write a Python program to find the sum of all even numbers between 1 and 50."
      ],
      "metadata": {
        "id": "B6-pHwmkGzzp"
      }
    },
    {
      "cell_type": "code",
      "source": [
        "a=1\n",
        "for x in range(1,51):\n",
        "  if x % 2 == 0:\n",
        "    a+=x\n",
        "print(\"Even numbers\", a)\n"
      ],
      "metadata": {
        "colab": {
          "base_uri": "https://localhost:8080/"
        },
        "id": "AQNETwHaGyj9",
        "outputId": "b4814659-05e3-4b45-e347-904d44cb291e"
      },
      "execution_count": 11,
      "outputs": [
        {
          "output_type": "stream",
          "name": "stdout",
          "text": [
            "Even numbers 651\n"
          ]
        }
      ]
    },
    {
      "cell_type": "markdown",
      "source": [
        "Q14. Write a program to reverse a string using a while loop."
      ],
      "metadata": {
        "id": "wfkBWaa0JQPi"
      }
    },
    {
      "cell_type": "code",
      "source": [
        "string = input(\"Enter a string: \")\n",
        "\n",
        "index = len(string) - 1\n",
        "\n",
        "reversed_string = \"\"\n",
        "while index >= 0:\n",
        "    reversed_string = reversed_string + string[index]\n",
        "    index -= 1\n",
        "\n",
        "print(reversed_string)\n"
      ],
      "metadata": {
        "colab": {
          "base_uri": "https://localhost:8080/"
        },
        "id": "DRGe9EYrJXzA",
        "outputId": "de678dd2-e559-4600-eaad-4fffeb55f131"
      },
      "execution_count": 14,
      "outputs": [
        {
          "output_type": "stream",
          "name": "stdout",
          "text": [
            "Enter a string: Aakash Choudhary\n",
            "yrahduohC hsakaA\n"
          ]
        }
      ]
    },
    {
      "cell_type": "markdown",
      "source": [
        "Q15. Write a Python program to calculate the factorial of a number provided by the user using a while loop."
      ],
      "metadata": {
        "id": "gZwNwY4hJ0xp"
      }
    },
    {
      "cell_type": "code",
      "source": [
        "num = int(input(\"Enter a number: \"))\n",
        "\n",
        "factorial = 1\n",
        "\n",
        "while num > 0:\n",
        "    factorial *= num\n",
        "    num -= 1\n",
        "\n",
        "print(factorial)\n"
      ],
      "metadata": {
        "colab": {
          "base_uri": "https://localhost:8080/"
        },
        "id": "5R5Jbkv6J44_",
        "outputId": "110d9dd8-b4bb-4d6e-9a93-8bfbfc439f5d"
      },
      "execution_count": 16,
      "outputs": [
        {
          "output_type": "stream",
          "name": "stdout",
          "text": [
            "Enter a number: 4\n",
            "24\n"
          ]
        }
      ]
    }
  ]
}