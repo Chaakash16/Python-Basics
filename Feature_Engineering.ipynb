{
  "nbformat": 4,
  "nbformat_minor": 0,
  "metadata": {
    "colab": {
      "provenance": [],
      "authorship_tag": "ABX9TyPiLK3WFw25xfRvSF4iUm5T",
      "include_colab_link": true
    },
    "kernelspec": {
      "name": "python3",
      "display_name": "Python 3"
    },
    "language_info": {
      "name": "python"
    }
  },
  "cells": [
    {
      "cell_type": "markdown",
      "metadata": {
        "id": "view-in-github",
        "colab_type": "text"
      },
      "source": [
        "<a href=\"https://colab.research.google.com/github/Chaakash16/Python-Basics/blob/main/Feature_Engineering.ipynb\" target=\"_parent\"><img src=\"https://colab.research.google.com/assets/colab-badge.svg\" alt=\"Open In Colab\"/></a>"
      ]
    },
    {
      "cell_type": "markdown",
      "source": [
        "**Feature Engineering**"
      ],
      "metadata": {
        "id": "_aGv72Murh6w"
      }
    },
    {
      "cell_type": "markdown",
      "source": [
        "Here are the answers to your 25 questions in one or two lines:  \n",
        "\n",
        "1. **What is a parameter?**  \n",
        "   - A parameter is a fixed value in a model that is learned from training data, such as weights in a linear regression model.  \n",
        "\n",
        "2. **What is correlation?**  \n",
        "   - Correlation measures the statistical relationship between two variables, indicating how one variable changes with another.  \n",
        "\n",
        "3. **What does negative correlation mean?**  \n",
        "   - A negative correlation means that as one variable increases, the other decreases, e.g., more exercise → lower body weight.  \n",
        "\n",
        "4. **Define Machine Learning. What are the main components in Machine Learning?**  \n",
        "   - Machine Learning is a field where computers learn from data without explicit programming. Its main components are data, features, model, loss function, and optimizer.  \n",
        "\n",
        "5. **How does loss value help in determining whether the model is good or not?**  \n",
        "   - A lower loss value indicates a better-performing model, as it means the model’s predictions are closer to actual values.  \n",
        "\n",
        "6. **What are continuous and categorical variables?**  \n",
        "   - Continuous variables have infinite values (e.g., height, salary), while categorical variables represent distinct groups (e.g., gender, city).  \n",
        "\n",
        "7. **How do we handle categorical variables in Machine Learning? What are the common techniques?**  \n",
        "   - Categorical variables can be handled using One-Hot Encoding, Label Encoding, or Ordinal Encoding.  \n",
        "\n",
        "8. **What do you mean by training and testing a dataset?**  \n",
        "   - Training data is used to train the model, while testing data evaluates how well the model generalizes to unseen data.  \n",
        "\n",
        "9. **What is sklearn.preprocessing?**  \n",
        "   - `sklearn.preprocessing` is a module in Scikit-Learn that provides tools for scaling, encoding, and transforming data.  \n",
        "\n",
        "10. **What is a Test set?**  \n",
        "   - A test set is a separate portion of the dataset used to evaluate the final performance of a trained model.  \n",
        "\n",
        "11. **How do we split data for model fitting (training and testing) in Python?**  \n",
        "   - Using `train_test_split()` from `sklearn.model_selection` to split data into training and testing sets.  \n",
        "\n",
        "12. **How do you approach a Machine Learning problem?**  \n",
        "   - Steps: Define problem → Collect data → Perform EDA → Preprocess data → Train model → Evaluate model → Optimize.  \n",
        "\n",
        "13. **Why do we have to perform EDA before fitting a model to the data?**  \n",
        "   - Exploratory Data Analysis (EDA) helps in understanding data patterns, detecting anomalies, and selecting the right preprocessing techniques.  \n",
        "\n",
        "14. **What is correlation?**  \n",
        "   - Correlation is a statistical measure that shows the strength and direction of the relationship between two variables.  \n",
        "\n",
        "15. **What does negative correlation mean?**  \n",
        "   - Negative correlation means that when one variable increases, the other decreases, and vice versa.  \n",
        "\n",
        "16. **How can you find correlation between variables in Python?**  \n",
        "   - Using `df.corr()` in Pandas or `seaborn.heatmap(df.corr())` for visualization.  \n",
        "\n",
        "17. **What is causation? Explain difference between correlation and causation with an example.**  \n",
        "   - Causation means one variable directly affects another. Correlation does not imply causation, e.g., Ice cream sales and shark attacks are correlated (summer season) but do not cause each other.  \n",
        "\n",
        "18. **What is an Optimizer? What are different types of optimizers? Explain each with an example.**  \n",
        "   - An optimizer adjusts model parameters to minimize loss. Common types:  \n",
        "     - **Gradient Descent**: Updates weights in the negative gradient direction.  \n",
        "     - **Adam**: Adaptive learning rates for faster convergence.  \n",
        "     - **RMSprop**: Works well for non-stationary data.  \n",
        "\n",
        "19. **What is sklearn.linear_model?**  \n",
        "   - `sklearn.linear_model` is a module in Scikit-Learn that provides linear models like Linear Regression, Logistic Regression, etc.  \n",
        "\n",
        "20. **What does model.fit() do? What arguments must be given?**  \n",
        "   - `model.fit(X, y)` trains the model on input `X` and output `y`.  \n",
        "\n",
        "21. **What does model.predict() do? What arguments must be given?**  \n",
        "   - `model.predict(X)` predicts output values for given input `X` after training.  \n",
        "\n",
        "22. **What are continuous and categorical variables?**  \n",
        "   - Continuous variables are numerical (e.g., age, weight), while categorical variables have distinct labels (e.g., color, category).  \n",
        "\n",
        "23. **What is feature scaling? How does it help in Machine Learning?**  \n",
        "   - Feature scaling normalizes data to improve model performance, especially for distance-based algorithms like KNN and SVM.  \n",
        "\n",
        "24. **How do we perform scaling in Python?**  \n",
        "   - Using `StandardScaler` (zero mean, unit variance) or `MinMaxScaler` (scales between 0 and 1) from `sklearn.preprocessing`.  \n",
        "\n",
        "25. **Explain data encoding?**  \n",
        "   - Data encoding transforms categorical variables into numerical values for machine learning models, using techniques like One-Hot Encoding and Label Encoding.  "
      ],
      "metadata": {
        "id": "jfoSFqugrm4B"
      }
    }
  ]
}