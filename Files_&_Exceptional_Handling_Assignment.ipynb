{
  "nbformat": 4,
  "nbformat_minor": 0,
  "metadata": {
    "colab": {
      "provenance": [],
      "collapsed_sections": [
        "JkHW7FFIX16G"
      ],
      "authorship_tag": "ABX9TyOWaFWgSd5apMnceUuCK94D",
      "include_colab_link": true
    },
    "kernelspec": {
      "name": "python3",
      "display_name": "Python 3"
    },
    "language_info": {
      "name": "python"
    }
  },
  "cells": [
    {
      "cell_type": "markdown",
      "metadata": {
        "id": "view-in-github",
        "colab_type": "text"
      },
      "source": [
        "<a href=\"https://colab.research.google.com/github/Chaakash16/Python-Basics/blob/main/Files_%26_Exceptional_Handling_Assignment.ipynb\" target=\"_parent\"><img src=\"https://colab.research.google.com/assets/colab-badge.svg\" alt=\"Open In Colab\"/></a>"
      ]
    },
    {
      "cell_type": "markdown",
      "source": [
        "#**Files, exceptional handling, logging and memory management Questions**\n",
        "\n"
      ],
      "metadata": {
        "id": "JkHW7FFIX16G"
      }
    },
    {
      "cell_type": "markdown",
      "source": [
        "Q1. What is the difference between interpreted and compiled languages?"
      ],
      "metadata": {
        "id": "9EESIdpmX180"
      }
    },
    {
      "cell_type": "markdown",
      "source": [
        "Ans. Compiled languages are translated into machine code before execution, while interpreted languages are translated and executed line-by-line at runtime."
      ],
      "metadata": {
        "id": "X4sdJlAYX1_q"
      }
    },
    {
      "cell_type": "markdown",
      "source": [
        "Q2. What is exception handling in Python?"
      ],
      "metadata": {
        "id": "hk3cxqz6X2CB"
      }
    },
    {
      "cell_type": "markdown",
      "source": [
        "Ans. Exception handling in Python is the process of catching and managing runtime errors using `try`, `except`, `else`, and `finally` blocks to prevent program crashes and ensure smooth execution."
      ],
      "metadata": {
        "id": "FGk9xx20X2Ej"
      }
    },
    {
      "cell_type": "markdown",
      "source": [
        "Q3. What is the purpose of the finally block in exception handling?"
      ],
      "metadata": {
        "id": "uWZFLMX-X2HN"
      }
    },
    {
      "cell_type": "markdown",
      "source": [
        "Ans. The purpose of the `finally` block in exception handling is to ensure that certain code is executed **no matter what**, whether an exception is raised or not, typically for cleanup tasks like closing files or releasing resources."
      ],
      "metadata": {
        "id": "-pr1jHzDX2Jf"
      }
    },
    {
      "cell_type": "markdown",
      "source": [
        "Q4. What is logging in Python?"
      ],
      "metadata": {
        "id": "0HyidUKJX2MD"
      }
    },
    {
      "cell_type": "markdown",
      "source": [
        "Ans. Logging in Python is the practice of recording messages, events, or errors during program execution using the `logging` module, which helps in tracking application behavior, debugging, and maintaining logs for future analysis."
      ],
      "metadata": {
        "id": "F_7LHu10X2Ow"
      }
    },
    {
      "cell_type": "markdown",
      "source": [
        "Q5. What is the significance of the __del__ method in Python?"
      ],
      "metadata": {
        "id": "FTi4nbBrX2Rq"
      }
    },
    {
      "cell_type": "markdown",
      "source": [
        "Ans. The `__del__` method in Python is a special method that is called when an object is about to be destroyed, allowing for cleanup tasks, such as releasing resources or closing files, before the object is removed from memory."
      ],
      "metadata": {
        "id": "j5gqQn9FX2T4"
      }
    },
    {
      "cell_type": "markdown",
      "source": [
        "Q6. What is the difference between import and from ... import in Python?"
      ],
      "metadata": {
        "id": "N-f4JyNaX2W6"
      }
    },
    {
      "cell_type": "markdown",
      "source": [
        "Ans. The difference between `import` and `from ... import` in Python is:\n",
        "\n",
        "- `import module`: Imports the entire module, and you access its functions or classes using `module.function` or `module.class`.\n",
        "- `from module import item`: Imports specific functions, classes, or variables from a module directly, allowing you to use them without the module prefix (e.g., `item()` instead of `module.item()`)."
      ],
      "metadata": {
        "id": "0jbXp-yqX2ZB"
      }
    },
    {
      "cell_type": "markdown",
      "source": [
        "Q7.  How can you handle multiple exceptions in Python?"
      ],
      "metadata": {
        "id": "096niv3OX2bw"
      }
    },
    {
      "cell_type": "markdown",
      "source": [
        "Ans. You can handle multiple exceptions in Python using multiple `except` blocks or by specifying a tuple of exceptions in a single `except` block."
      ],
      "metadata": {
        "id": "09T_Ysv_X2er"
      }
    },
    {
      "cell_type": "markdown",
      "source": [
        "Q8. What is the purpose of the with statement when handling files in Python?"
      ],
      "metadata": {
        "id": "4Cxpp3trX2gz"
      }
    },
    {
      "cell_type": "markdown",
      "source": [
        "Ans. The purpose of the `with` statement in Python when handling files is to ensure that the file is properly opened and automatically closed after the block of code is executed, even if an exception occurs."
      ],
      "metadata": {
        "id": "gUzeNvcrX2jb"
      }
    },
    {
      "cell_type": "markdown",
      "source": [
        "Q9. What is the difference between multithreading and multiprocessing?"
      ],
      "metadata": {
        "id": "xrSdrzm8X2mN"
      }
    },
    {
      "cell_type": "markdown",
      "source": [
        "Ans. Multithreading runs multiple threads within a single process, sharing memory, while multiprocessing runs multiple processes with separate memory spaces, enabling parallel execution."
      ],
      "metadata": {
        "id": "Dc04xuaxX2o5"
      }
    },
    {
      "cell_type": "markdown",
      "source": [
        "Q10. What are the advantages of using logging in a program?"
      ],
      "metadata": {
        "id": "xm5FvLskX2rr"
      }
    },
    {
      "cell_type": "markdown",
      "source": [
        "Ans. The advantages of using logging in a program include better tracking of events, easier debugging, monitoring of application behavior, storing error messages, and providing insights into the application's performance or issues."
      ],
      "metadata": {
        "id": "t5LpApMwX2uf"
      }
    },
    {
      "cell_type": "markdown",
      "source": [
        "Q11. What is memory management in Python?"
      ],
      "metadata": {
        "id": "cMXbMCKZX2w5"
      }
    },
    {
      "cell_type": "markdown",
      "source": [
        "Ans. Memory management in Python involves automatic allocation and deallocation of memory through a garbage collector, which tracks and reclaims memory occupied by objects that are no longer in use."
      ],
      "metadata": {
        "id": "_iQCtpbvX2zj"
      }
    },
    {
      "cell_type": "markdown",
      "source": [
        "Q12. What are the basic steps involved in exception handling in Python?"
      ],
      "metadata": {
        "id": "rFi8iXn4X22X"
      }
    },
    {
      "cell_type": "markdown",
      "source": [
        "Ans. The basic steps in exception handling in Python are `try`, `except`, `else`, and `finally`."
      ],
      "metadata": {
        "id": "CfIAl-KeX246"
      }
    },
    {
      "cell_type": "markdown",
      "source": [
        "Q13. Why is memory management important in Python?"
      ],
      "metadata": {
        "id": "GioiWnfTX276"
      }
    },
    {
      "cell_type": "markdown",
      "source": [
        "Ans. Memory management is important in Python to efficiently allocate, use, and release memory, ensuring optimal performance and preventing memory leaks or excessive resource consumption."
      ],
      "metadata": {
        "id": "PvOyM0wBX2-f"
      }
    },
    {
      "cell_type": "markdown",
      "source": [
        "Q14. What is the role of try and except in exception handling?"
      ],
      "metadata": {
        "id": "NYApTc12X3A_"
      }
    },
    {
      "cell_type": "markdown",
      "source": [
        "Ans. The role of `try` is to define a block of code that might raise an exception, and `except` is used to catch and handle those exceptions if they occur."
      ],
      "metadata": {
        "id": "G-_7OUipX3D3"
      }
    },
    {
      "cell_type": "markdown",
      "source": [
        "Q15. How does Python's garbage collection system work?"
      ],
      "metadata": {
        "id": "eqESbtOwX3Gx"
      }
    },
    {
      "cell_type": "markdown",
      "source": [
        "Ans. Python's garbage collection system works by automatically tracking and reclaiming memory used by objects that are no longer referenced, primarily using **reference counting** and **cyclic garbage collection** to handle memory leaks from circular references."
      ],
      "metadata": {
        "id": "Xg0PQZjPX3Jo"
      }
    },
    {
      "cell_type": "markdown",
      "source": [
        "Q16. What is the purpose of the else block in exception handling?"
      ],
      "metadata": {
        "id": "6DFp7lTWX3PU"
      }
    },
    {
      "cell_type": "markdown",
      "source": [
        "Ans. The purpose of the `else` block in exception handling is to define code that should execute only if no exceptions were raised in the `try` block."
      ],
      "metadata": {
        "id": "hg-MkA9SX3SM"
      }
    },
    {
      "cell_type": "markdown",
      "source": [
        "Q17. What are the common logging levels in Python?"
      ],
      "metadata": {
        "id": "CRTul4NPX3VM"
      }
    },
    {
      "cell_type": "markdown",
      "source": [
        "Ans. The common logging levels in Python are `DEBUG`, `INFO`, `WARNING`, `ERROR`, and `CRITICAL`, which indicate the severity of the log messages."
      ],
      "metadata": {
        "id": "GqMZmyneX3YJ"
      }
    },
    {
      "cell_type": "markdown",
      "source": [
        "Q18. What is the difference between os.fork() and multiprocessing in Python?"
      ],
      "metadata": {
        "id": "OwqXLeZXX3bK"
      }
    },
    {
      "cell_type": "markdown",
      "source": [
        "Ans. The difference between `os.fork()` and `multiprocessing` in Python is that `os.fork()` creates a child process by duplicating the current process, while `multiprocessing` provides a higher-level interface for creating and managing multiple processes, with better handling of inter-process communication and platform compatibility."
      ],
      "metadata": {
        "id": "qw1dsuJoX3eJ"
      }
    },
    {
      "cell_type": "markdown",
      "source": [
        "Q19. What is the importance of closing a file in Python?"
      ],
      "metadata": {
        "id": "QLF6CtERX3g_"
      }
    },
    {
      "cell_type": "markdown",
      "source": [
        "Ans. Closing a file in Python is important to free up system resources, ensure data is properly written to disk, and avoid potential file corruption or memory leaks."
      ],
      "metadata": {
        "id": "fkOwku3eX3jp"
      }
    },
    {
      "cell_type": "markdown",
      "source": [
        "Q20. What is the difference between file.read() and file.readline() in Python?"
      ],
      "metadata": {
        "id": "nAmRznqZX3mu"
      }
    },
    {
      "cell_type": "markdown",
      "source": [
        "Ans. The difference between `file.read()` and `file.readline()` in Python is that `file.read()` reads the entire content of the file as a single string, while `file.readline()` reads one line at a time from the file."
      ],
      "metadata": {
        "id": "bk85HkyNX3pb"
      }
    },
    {
      "cell_type": "markdown",
      "source": [
        "Q21. What is the logging module in Python used for?"
      ],
      "metadata": {
        "id": "RN4O2LGrX3sb"
      }
    },
    {
      "cell_type": "markdown",
      "source": [
        "Ans. The `logging` module in Python is used for recording log messages from programs, helping with debugging, tracking events, and monitoring application behavior at various log levels (e.g., DEBUG, INFO, WARNING, ERROR, CRITICAL)."
      ],
      "metadata": {
        "id": "kdOy6iM1X3vU"
      }
    },
    {
      "cell_type": "markdown",
      "source": [
        "Q22. What is the os module in Python used for in file handling?"
      ],
      "metadata": {
        "id": "RW4xS3cRX3yM"
      }
    },
    {
      "cell_type": "markdown",
      "source": [
        "Ans. The `os` module in Python is used for interacting with the operating system, providing functions for file handling tasks such as creating, removing, renaming files, checking file existence, and manipulating directories."
      ],
      "metadata": {
        "id": "kLWpgdmkX31J"
      }
    },
    {
      "cell_type": "markdown",
      "source": [
        "Q23. What are the challenges associated with memory management in Python?"
      ],
      "metadata": {
        "id": "zOAkj61IX337"
      }
    },
    {
      "cell_type": "markdown",
      "source": [
        "Ans. Challenges associated with memory management in Python include dealing with **circular references**, the **global interpreter lock (GIL)** affecting multithreading, **memory leaks** in complex objects, and the need for efficient garbage collection to prevent excessive memory consumption."
      ],
      "metadata": {
        "id": "nAqUZCyBX36-"
      }
    },
    {
      "cell_type": "markdown",
      "source": [
        "Q24. How do you raise an exception manually in Python?"
      ],
      "metadata": {
        "id": "_lOmceZnayx5"
      }
    },
    {
      "cell_type": "markdown",
      "source": [
        "Ans. You can raise an exception manually in Python using the `raise` keyword followed by the exception, e.g., `raise Exception(\"Error message\")`."
      ],
      "metadata": {
        "id": "4gblrzH2ayqH"
      }
    },
    {
      "cell_type": "markdown",
      "source": [
        "Q25. Why is it important to use multithreading in certain applications?"
      ],
      "metadata": {
        "id": "S1fAzk96aydL"
      }
    },
    {
      "cell_type": "markdown",
      "source": [
        "Ans. Multithreading is important in certain applications to improve performance by enabling concurrent execution, making better use of CPU resources, and handling multiple tasks, such as I/O operations, simultaneously."
      ],
      "metadata": {
        "id": "8WuInJjKayK8"
      }
    },
    {
      "cell_type": "markdown",
      "source": [
        "#**Practical Questions**"
      ],
      "metadata": {
        "id": "IzZFWnRnbEvm"
      }
    },
    {
      "cell_type": "markdown",
      "source": [
        "Q1. How can you open a file for writing in Python and write a string to it?"
      ],
      "metadata": {
        "id": "eT6UMYSlbOk1"
      }
    },
    {
      "cell_type": "code",
      "source": [
        "with open('file.txt', 'w') as f:\n",
        "    f.write(\"Hello, World!\")"
      ],
      "metadata": {
        "id": "9SNfocmFaxex"
      },
      "execution_count": 1,
      "outputs": []
    },
    {
      "cell_type": "markdown",
      "source": [
        "Q2. Write a Python program to read the contents of a file and print each line."
      ],
      "metadata": {
        "id": "9QvEjSgAbcOZ"
      }
    },
    {
      "cell_type": "code",
      "source": [
        "with open('file.txt', 'r') as file:\n",
        "    for line in file:\n",
        "        print(line, end='')"
      ],
      "metadata": {
        "colab": {
          "base_uri": "https://localhost:8080/"
        },
        "id": "2rjIZ-3cbWEQ",
        "outputId": "ec63af2c-76c6-40b6-f633-3f2b8dcc6c09"
      },
      "execution_count": 2,
      "outputs": [
        {
          "output_type": "stream",
          "name": "stdout",
          "text": [
            "Hello, World!"
          ]
        }
      ]
    },
    {
      "cell_type": "markdown",
      "source": [
        "Q3. How would you handle a case where the file doesn't exist while trying to open it for reading?"
      ],
      "metadata": {
        "id": "4zhiVwjibdlG"
      }
    },
    {
      "cell_type": "code",
      "source": [
        "try:\n",
        "    with open('file.txt', 'r') as file:\n",
        "        for line in file:\n",
        "            print(line, end='')\n",
        "except FileNotFoundError:\n",
        "    print(\"File not found!\")"
      ],
      "metadata": {
        "colab": {
          "base_uri": "https://localhost:8080/"
        },
        "id": "n8U39ycbbd1b",
        "outputId": "b2d9fc1a-0e22-46bd-ee2a-5d180471d78f"
      },
      "execution_count": 3,
      "outputs": [
        {
          "output_type": "stream",
          "name": "stdout",
          "text": [
            "Hello, World!"
          ]
        }
      ]
    },
    {
      "cell_type": "markdown",
      "source": [
        "Q4. Write a Python script that reads from one file and writes its content to another file."
      ],
      "metadata": {
        "id": "z-q6mQiibd8h"
      }
    },
    {
      "cell_type": "code",
      "source": [
        "with open('source.txt', 'r') as source_file:\n",
        "    with open('destination.txt', 'w') as dest_file:\n",
        "        dest_file.write(source_file.read())"
      ],
      "metadata": {
        "id": "KasJ6zE0cTRU"
      },
      "execution_count": null,
      "outputs": []
    },
    {
      "cell_type": "markdown",
      "source": [
        "Q5. How would you catch and handle division by zero error in Python?"
      ],
      "metadata": {
        "id": "ZUAXBoXWbeJG"
      }
    },
    {
      "cell_type": "code",
      "source": [
        "try:\n",
        "    result = 10 / 0\n",
        "except ZeroDivisionError:\n",
        "    print(\"Cannot divide by zero!\")"
      ],
      "metadata": {
        "colab": {
          "base_uri": "https://localhost:8080/"
        },
        "id": "uS-aol9_bePs",
        "outputId": "d7d55b04-98ad-4d06-dc99-5e7cb25afc4b"
      },
      "execution_count": 5,
      "outputs": [
        {
          "output_type": "stream",
          "name": "stdout",
          "text": [
            "Cannot divide by zero!\n"
          ]
        }
      ]
    },
    {
      "cell_type": "markdown",
      "source": [
        "Q6.  Write a Python program that logs an error message to a log file when a division by zero exception occurs."
      ],
      "metadata": {
        "id": "TVuc7OAAbeVy"
      }
    },
    {
      "cell_type": "code",
      "source": [
        "import logging\n",
        "\n",
        "logging.basicConfig(filename='error_log.txt', level=logging.ERROR)\n",
        "\n",
        "try:\n",
        "    result = 10 / 0\n",
        "except ZeroDivisionError as e:\n",
        "    logging.error(f\"Error: {e}\")"
      ],
      "metadata": {
        "colab": {
          "base_uri": "https://localhost:8080/"
        },
        "id": "JjxQV7Ccbeb0",
        "outputId": "7091edce-0f0d-452b-dff6-3ba7c4b8a689"
      },
      "execution_count": 6,
      "outputs": [
        {
          "output_type": "stream",
          "name": "stderr",
          "text": [
            "ERROR:root:Error: division by zero\n"
          ]
        }
      ]
    },
    {
      "cell_type": "markdown",
      "source": [
        "Q7. How do you log information at different levels (INFO, ERROR, WARNING) in Python using the logging module?"
      ],
      "metadata": {
        "id": "8iEqjOYnbehe"
      }
    },
    {
      "cell_type": "code",
      "source": [
        "import logging\n",
        "\n",
        "logging.basicConfig(level=logging.DEBUG)\n",
        "\n",
        "logging.debug(\"This is a debug message\")\n",
        "logging.info(\"This is an info message\")\n",
        "logging.warning(\"This is a warning message\")\n",
        "logging.error(\"This is an error message\")\n",
        "logging.critical(\"This is a critical message\")"
      ],
      "metadata": {
        "colab": {
          "base_uri": "https://localhost:8080/"
        },
        "id": "VhUhSXCYbenO",
        "outputId": "9cf18d3c-e82f-4f3d-e7b1-042e7521653c"
      },
      "execution_count": 7,
      "outputs": [
        {
          "output_type": "stream",
          "name": "stderr",
          "text": [
            "WARNING:root:This is a warning message\n",
            "ERROR:root:This is an error message\n",
            "CRITICAL:root:This is a critical message\n"
          ]
        }
      ]
    },
    {
      "cell_type": "markdown",
      "source": [
        "Q8. Write a program to handle a file opening error using exception handling."
      ],
      "metadata": {
        "id": "GqZ9Tz2fbetC"
      }
    },
    {
      "cell_type": "code",
      "source": [
        "try:\n",
        "    with open('non_existent_file.txt', 'r') as file:\n",
        "        content = file.read()\n",
        "except FileNotFoundError as e:\n",
        "    print(f\"Error: {e}\")"
      ],
      "metadata": {
        "colab": {
          "base_uri": "https://localhost:8080/"
        },
        "id": "rng9L220beyZ",
        "outputId": "b12743cc-7067-4ce0-e0cd-f3364117ccf1"
      },
      "execution_count": 9,
      "outputs": [
        {
          "output_type": "stream",
          "name": "stdout",
          "text": [
            "Error: [Errno 2] No such file or directory: 'non_existent_file.txt'\n"
          ]
        }
      ]
    },
    {
      "cell_type": "markdown",
      "source": [
        "Q9. How can you read a file line by line and store its content in a list in Python?"
      ],
      "metadata": {
        "id": "a5varB5-be3-"
      }
    },
    {
      "cell_type": "code",
      "source": [
        "with open('file.txt', 'r') as file:\n",
        "    lines = file.readlines()"
      ],
      "metadata": {
        "id": "2DMoLssbbe9Y"
      },
      "execution_count": 8,
      "outputs": []
    },
    {
      "cell_type": "markdown",
      "source": [
        "Q10. How can you append data to an existing file in Python?"
      ],
      "metadata": {
        "id": "wl_P9-_PbfDw"
      }
    },
    {
      "cell_type": "code",
      "source": [
        "with open('file.txt', 'a') as file:\n",
        "    file.write(\"New data to append\\n\")"
      ],
      "metadata": {
        "id": "iGIM7BQlbfJy"
      },
      "execution_count": 10,
      "outputs": []
    },
    {
      "cell_type": "markdown",
      "source": [
        "Q11. Write a Python program that uses a try-except block to handle an error when attempting to access a\n",
        "dictionary key that doesn't exist."
      ],
      "metadata": {
        "id": "O5zgdwN7bfPD"
      }
    },
    {
      "cell_type": "code",
      "source": [
        "my_dict = {'a': 1, 'b': 2}\n",
        "\n",
        "try:\n",
        "    value = my_dict['c']\n",
        "except KeyError as e:\n",
        "    print(f\"Error: {e}\")"
      ],
      "metadata": {
        "colab": {
          "base_uri": "https://localhost:8080/"
        },
        "id": "it2lUixfbfUg",
        "outputId": "707c2497-15cf-41a3-b36f-fdfb025d671e"
      },
      "execution_count": 11,
      "outputs": [
        {
          "output_type": "stream",
          "name": "stdout",
          "text": [
            "Error: 'c'\n"
          ]
        }
      ]
    },
    {
      "cell_type": "markdown",
      "source": [
        "Q12. Write a program that demonstrates using multiple except blocks to handle different types of exceptions."
      ],
      "metadata": {
        "id": "rigvJqZhbfZ3"
      }
    },
    {
      "cell_type": "code",
      "source": [
        "try:\n",
        "    x = 10 / 0\n",
        "    y = int(\"hello\")\n",
        "except ZeroDivisionError as e:\n",
        "    print(f\"Error: Division by zero - {e}\")\n",
        "except ValueError as e:\n",
        "    print(f\"Error: Invalid value - {e}\")"
      ],
      "metadata": {
        "colab": {
          "base_uri": "https://localhost:8080/"
        },
        "id": "Ob_k8IPFbfe8",
        "outputId": "bf7fe873-3496-42ca-f1a1-4b8b6dc335aa"
      },
      "execution_count": 12,
      "outputs": [
        {
          "output_type": "stream",
          "name": "stdout",
          "text": [
            "Error: Division by zero - division by zero\n"
          ]
        }
      ]
    },
    {
      "cell_type": "markdown",
      "source": [
        "Q13. How would you check if a file exists before attempting to read it in Python?"
      ],
      "metadata": {
        "id": "ZttP41Agbfk4"
      }
    },
    {
      "cell_type": "code",
      "source": [
        "import os\n",
        "\n",
        "if os.path.exists('file.txt'):\n",
        "    with open('file.txt', 'r') as file:\n",
        "        content = file.read()\n",
        "else:\n",
        "    print(\"File does not exist.\")"
      ],
      "metadata": {
        "id": "Z7kLV6KMbfqJ"
      },
      "execution_count": 13,
      "outputs": []
    },
    {
      "cell_type": "markdown",
      "source": [
        "Q14. Write a program that uses the logging module to log both informational and error messages."
      ],
      "metadata": {
        "id": "CKbl3ymVbfvt"
      }
    },
    {
      "cell_type": "code",
      "source": [
        "import logging\n",
        "\n",
        "logging.basicConfig(filename='app.log', level=logging.DEBUG)\n",
        "\n",
        "logging.info(\"This is an informational message.\")\n",
        "logging.error(\"This is an error message.\")"
      ],
      "metadata": {
        "colab": {
          "base_uri": "https://localhost:8080/"
        },
        "id": "RD2pDCRxbf1T",
        "outputId": "dda417bd-9f7a-4db9-f5a0-e3c2dee6a6e4"
      },
      "execution_count": 14,
      "outputs": [
        {
          "output_type": "stream",
          "name": "stderr",
          "text": [
            "ERROR:root:This is an error message.\n"
          ]
        }
      ]
    },
    {
      "cell_type": "markdown",
      "source": [
        "Q15. Write a Python program that prints the content of a file and handles the case when the file is empty."
      ],
      "metadata": {
        "id": "-AWpWdR_bf6z"
      }
    },
    {
      "cell_type": "code",
      "source": [
        "try:\n",
        "    with open('file.txt', 'r') as file:\n",
        "        content = file.read()\n",
        "        if not content:\n",
        "            print(\"The file is empty.\")\n",
        "        else:\n",
        "            print(content)\n",
        "except FileNotFoundError:\n",
        "    print(\"The file does not exist.\")"
      ],
      "metadata": {
        "colab": {
          "base_uri": "https://localhost:8080/"
        },
        "id": "CfOOu7hCbgAf",
        "outputId": "cc903451-461e-452d-922d-039385a51b24"
      },
      "execution_count": 15,
      "outputs": [
        {
          "output_type": "stream",
          "name": "stdout",
          "text": [
            "Hello, World!New data to append\n",
            "\n"
          ]
        }
      ]
    },
    {
      "cell_type": "markdown",
      "source": [
        "Q16. Demonstrate how to use memory profiling to check the memory usage of a small program."
      ],
      "metadata": {
        "id": "s7Wu6S23bgGq"
      }
    },
    {
      "cell_type": "code",
      "source": [
        "from memory_profiler import profile\n",
        "\n",
        "@profile\n",
        "def my_function():\n",
        "    a = [i for i in range(10000)]\n",
        "    return a\n",
        "\n",
        "if __name__ == \"__main__\":\n",
        "    my_function()  #python -m memory_profiler your_script.py"
      ],
      "metadata": {
        "id": "UidwtdUGeLkd"
      },
      "execution_count": null,
      "outputs": []
    },
    {
      "cell_type": "markdown",
      "source": [
        "Q17. Write a Python program to create and write a list of numbers to a file, one number per line."
      ],
      "metadata": {
        "id": "fBgWFXkHbgSg"
      }
    },
    {
      "cell_type": "code",
      "source": [
        "numbers = [1, 2, 3, 4, 5]\n",
        "\n",
        "with open('numbers.txt', 'w') as file:\n",
        "    for number in numbers:\n",
        "        file.write(f\"{number}\\n\")"
      ],
      "metadata": {
        "id": "roIGsMjwbgYH"
      },
      "execution_count": 18,
      "outputs": []
    },
    {
      "cell_type": "markdown",
      "source": [
        "Q18. How would you implement a basic logging setup that logs to a file with rotation after 1MB?"
      ],
      "metadata": {
        "id": "j7-XudlIbgvc"
      }
    },
    {
      "cell_type": "code",
      "source": [
        "import logging\n",
        "from logging.handlers import RotatingFileHandler\n",
        "\n",
        "handler = RotatingFileHandler('app.log', maxBytes=1e6, backupCount=3)\n",
        "handler.setLevel(logging.INFO)\n",
        "formatter = logging.Formatter('%(asctime)s - %(levelname)s - %(message)s')\n",
        "handler.setFormatter(formatter)\n",
        "\n",
        "logger = logging.getLogger()\n",
        "logger.setLevel(logging.INFO)\n",
        "logger.addHandler(handler)\n",
        "\n",
        "logger.info(\"This is an info message.\")\n",
        "logger.error(\"This is an error message.\")"
      ],
      "metadata": {
        "colab": {
          "base_uri": "https://localhost:8080/"
        },
        "id": "OAmqn6gHbg1I",
        "outputId": "b2365da4-7aba-40ba-d21c-78d5ee1ab777"
      },
      "execution_count": 19,
      "outputs": [
        {
          "output_type": "stream",
          "name": "stderr",
          "text": [
            "INFO:root:This is an info message.\n",
            "ERROR:root:This is an error message.\n"
          ]
        }
      ]
    },
    {
      "cell_type": "markdown",
      "source": [
        "Q19. Write a program that handles both IndexError and KeyError using a try-except block."
      ],
      "metadata": {
        "id": "nDBKJvC5bg53"
      }
    },
    {
      "cell_type": "code",
      "source": [
        "my_list = [1, 2, 3]\n",
        "my_dict = {'a': 1, 'b': 2}\n",
        "\n",
        "try:\n",
        "    print(my_list[5])\n",
        "    print(my_dict['c'])\n",
        "except IndexError as e:\n",
        "    print(f\"IndexError: {e}\")\n",
        "except KeyError as e:\n",
        "    print(f\"KeyError: {e}\")"
      ],
      "metadata": {
        "colab": {
          "base_uri": "https://localhost:8080/"
        },
        "id": "zLm065Q2bg-r",
        "outputId": "57d8eb81-92d7-418d-d785-c67a0dd72e5d"
      },
      "execution_count": 20,
      "outputs": [
        {
          "output_type": "stream",
          "name": "stdout",
          "text": [
            "IndexError: list index out of range\n"
          ]
        }
      ]
    },
    {
      "cell_type": "markdown",
      "source": [
        "Q20. How would you open a file and read its contents using a context manager in Python?"
      ],
      "metadata": {
        "id": "pnwtrzSobhDe"
      }
    },
    {
      "cell_type": "code",
      "source": [
        "with open('file.txt', 'r') as file:\n",
        "    content = file.read()\n",
        "    print(content)"
      ],
      "metadata": {
        "colab": {
          "base_uri": "https://localhost:8080/"
        },
        "id": "wNjGZ_ANbhIU",
        "outputId": "9b190288-e5f9-44dd-f5d7-2fa57706277c"
      },
      "execution_count": 21,
      "outputs": [
        {
          "output_type": "stream",
          "name": "stdout",
          "text": [
            "Hello, World!New data to append\n",
            "\n"
          ]
        }
      ]
    },
    {
      "cell_type": "markdown",
      "source": [
        "Q21. Write a Python program that reads a file and prints the number of occurrences of a specific word."
      ],
      "metadata": {
        "id": "AvFpk1xDbhNP"
      }
    },
    {
      "cell_type": "code",
      "source": [
        "word_to_find = \"example\"\n",
        "count = 0\n",
        "\n",
        "with open('file.txt', 'r') as file:\n",
        "    for line in file:\n",
        "        count += line.lower().split().count(word_to_find.lower())\n",
        "\n",
        "print(f\"The word '{word_to_find}' appears {count} times.\")"
      ],
      "metadata": {
        "colab": {
          "base_uri": "https://localhost:8080/"
        },
        "id": "ncCWBF9SbhSF",
        "outputId": "d8c795d9-84d9-4141-b394-3bb28d6a04f2"
      },
      "execution_count": 22,
      "outputs": [
        {
          "output_type": "stream",
          "name": "stdout",
          "text": [
            "The word 'example' appears 0 times.\n"
          ]
        }
      ]
    },
    {
      "cell_type": "markdown",
      "source": [
        "Q22. How can you check if a file is empty before attempting to read its contents?"
      ],
      "metadata": {
        "id": "avb2Rpd1bhbi"
      }
    },
    {
      "cell_type": "code",
      "source": [
        "import os\n",
        "\n",
        "if os.stat('file.txt').st_size == 0:\n",
        "    print(\"The file is empty.\")\n",
        "else:\n",
        "    with open('file.txt', 'r') as file:\n",
        "        content = file.read()\n",
        "        print(content)"
      ],
      "metadata": {
        "colab": {
          "base_uri": "https://localhost:8080/"
        },
        "id": "lyW6e81jbhsh",
        "outputId": "aab18e43-795e-4430-c043-5677f524e2c8"
      },
      "execution_count": 23,
      "outputs": [
        {
          "output_type": "stream",
          "name": "stdout",
          "text": [
            "Hello, World!New data to append\n",
            "\n"
          ]
        }
      ]
    },
    {
      "cell_type": "markdown",
      "source": [
        "Q23. Write a Python program that writes to a log file when an error occurs during file handling."
      ],
      "metadata": {
        "id": "nVR-IfhcbiaR"
      }
    },
    {
      "cell_type": "code",
      "source": [
        "import logging\n",
        "\n",
        "logging.basicConfig(filename='error_log.txt', level=logging.ERROR)\n",
        "\n",
        "try:\n",
        "    with open('file.txt', 'r') as file:\n",
        "        content = file.read()\n",
        "except Exception as e:\n",
        "    logging.error(f\"Error occurred: {e}\")"
      ],
      "metadata": {
        "id": "jsLZmXSEe6SI"
      },
      "execution_count": 24,
      "outputs": []
    }
  ]
}